{
  "nbformat": 4,
  "nbformat_minor": 0,
  "metadata": {
    "colab": {
      "provenance": [],
      "authorship_tag": "ABX9TyM/WbwbulK5fqRoAGWEUlZh",
      "include_colab_link": true
    },
    "kernelspec": {
      "name": "python3",
      "display_name": "Python 3"
    },
    "language_info": {
      "name": "python"
    }
  },
  "cells": [
    {
      "cell_type": "markdown",
      "metadata": {
        "id": "view-in-github",
        "colab_type": "text"
      },
      "source": [
        "<a href=\"https://colab.research.google.com/github/muhammaduns/LearnAI/blob/main/Python_Intermediate.ipynb\" target=\"_parent\"><img src=\"https://colab.research.google.com/assets/colab-badge.svg\" alt=\"Open In Colab\"/></a>"
      ]
    },
    {
      "cell_type": "markdown",
      "source": [
        "**Function Call Unpacking & Beyond**\n",
        "\n",
        "Hopefully, by now, we have started to see the power of using the * and ** operators in our function definitions. However, Python doesn’t stop there! Not only can we use the operators when defining parameters, but we can also use them in function calls.\n",
        "\n",
        "Let’s imagine we want to sum a few numbers together:\n",
        "\n",
        "Right now, our function forces us to pass in an individual argument for num1, num2, and num3. This isn’t a big issue if we have separate variables or know our numbers in advance. However, what if we wanted to use a list like [3, 6, 9] instead? Well, that is where the unpacking operator comes to the rescue.\n",
        "\n",
        "Let’s observe:"
      ],
      "metadata": {
        "id": "1MRG0MZ655F-"
      }
    },
    {
      "cell_type": "code",
      "execution_count": null,
      "metadata": {
        "colab": {
          "base_uri": "https://localhost:8080/"
        },
        "id": "VsquopimwrJT",
        "outputId": "bbb68f7c-b13b-4793-925a-77134d7907b0"
      },
      "outputs": [
        {
          "output_type": "stream",
          "name": "stdout",
          "text": [
            "6\n"
          ]
        }
      ],
      "source": [
        "Num_List = [1,2,3]\n",
        "\n",
        "def sum(num1, num2, num3):\n",
        "  print(num1+ num2 + num3)\n",
        "\n",
        "sum(*Num_List)"
      ]
    },
    {
      "cell_type": "markdown",
      "source": [
        "So what’s happening here? Well, by using the unpacking operator (*) we are spreading the contents of our list my_num_list into the individual arguments in our function definition. We are immediately saved the hassle of writing loops and are given the flexibility to use any iterable with three elements.\n",
        "\n",
        "This way of using the * in a function call also applies to our keyword operator **. As long as the keywords match the function parameter names, we can accomplish the same goal:"
      ],
      "metadata": {
        "id": "PKG9vrZ16Qs2"
      }
    },
    {
      "cell_type": "code",
      "source": [
        "nums = {'num1': 1, \n",
        "        'num2': 2,\n",
        "        'num3': 3,}\n",
        "\n",
        "def sum(num1, num2, num3):\n",
        "  print(num1 + num2 + num3)\n",
        "\n",
        "sum(**nums)"
      ],
      "metadata": {
        "colab": {
          "base_uri": "https://localhost:8080/"
        },
        "id": "h6YnyBte43uD",
        "outputId": "d63bac60-74c1-40f1-b8bd-47bc0be3636e"
      },
      "execution_count": null,
      "outputs": [
        {
          "output_type": "stream",
          "name": "stdout",
          "text": [
            "6\n"
          ]
        }
      ]
    },
    {
      "cell_type": "markdown",
      "source": [
        "We can even use the operators inside of built-in functions. For example, instead of manually providing the range() built-in function with a start and stop value, we can unpack a list directly into it. Let’s take a look:"
      ],
      "metadata": {
        "id": "lYGvtNx867xw"
      }
    },
    {
      "cell_type": "code",
      "source": [
        "start_stop = [3, 8]\n",
        "\n",
        "range_values = range(*start_stop)\n",
        "print(list(range_values))"
      ],
      "metadata": {
        "colab": {
          "base_uri": "https://localhost:8080/"
        },
        "id": "JUzq7fv56rlI",
        "outputId": "0ae7336b-e2cb-483d-d635-60e49f61d62c"
      },
      "execution_count": null,
      "outputs": [
        {
          "output_type": "stream",
          "name": "stdout",
          "text": [
            "[3, 4, 5, 6, 7]\n"
          ]
        }
      ]
    },
    {
      "cell_type": "markdown",
      "source": [
        "The possibilities of using the * and ** operators are endless. Observe some more clever use cases:\n",
        "\n",
        "*   Unpacking parts of an iterable\n",
        "\n",
        " a, *b, c = [3, 6, 9, 12, 15]\n",
        " print(b)\n",
        "\n",
        "Would output:\n",
        "\n",
        "[6, 9, 12]\n",
        "\n",
        "*   Merging iterables\n",
        "\n",
        "my_tuple = (3, 6, 9)\n",
        "\n",
        "merged_tuple = (0, *my_tuple, 12)\n",
        "\n",
        "print(merged_tuple)\n",
        "\n",
        "Would output:\n",
        "\n",
        "(0, 3, 6, 9, 12)\n",
        "\n",
        "* **Combining unpacking and packing**\n"
      ],
      "metadata": {
        "id": "be_R6gtQ7clp"
      }
    },
    {
      "cell_type": "code",
      "source": [
        "num_collection = [3, 6, 9]\n",
        " \n",
        "def power_two(*nums): \n",
        "  for num in nums:\n",
        "    print(num**2)\n",
        " \n",
        "power_two(*num_collection)"
      ],
      "metadata": {
        "colab": {
          "base_uri": "https://localhost:8080/"
        },
        "id": "7iyJA-eZ7QgW",
        "outputId": "b9fc24f8-d9c7-41cd-e163-233ec4071fb7"
      },
      "execution_count": null,
      "outputs": [
        {
          "output_type": "stream",
          "name": "stdout",
          "text": [
            "9\n",
            "36\n",
            "81\n"
          ]
        }
      ]
    },
    {
      "cell_type": "markdown",
      "source": [
        "Jiho thinks our restaurant application is missing one really important feature. Jiho would like for the application to be able to calculate the total bill of a table (including tip) and split it based on the number of people at the table.\n",
        "\n",
        "Thankfully, we had an existing function called calculate_price_per_person() from our last restaurant project that we can reuse. Take some time to examine the function and its inner workings.\n",
        "\n",
        "Run the code to move onto the next checkpoint. Don’t worry we shouldn’t see any output just yet."
      ],
      "metadata": {
        "id": "PC0KgbGw-bc0"
      }
    },
    {
      "cell_type": "code",
      "source": [
        "def calculate_price_per_person(total, tip, split):\n",
        "  total_tip = total * (tip/100)\n",
        "  print('total tip {}'.format(total_tip) )\n",
        "  split_price = (total + total_tip) / split\n",
        "  print(split_price)\n",
        "\n",
        "# Write your code below: \n",
        "table_7_total = [534.50 , 20.0 , 5]\n",
        "\n",
        "\n",
        "calculate_price_per_person(*table_7_total)\n",
        "\n"
      ],
      "metadata": {
        "colab": {
          "base_uri": "https://localhost:8080/"
        },
        "id": "GX8NFXYt9ljy",
        "outputId": "33a706ad-fd70-4ea0-884a-d95f0bca1946"
      },
      "execution_count": null,
      "outputs": [
        {
          "output_type": "stream",
          "name": "stdout",
          "text": [
            "total tip 106.9\n",
            "128.28\n"
          ]
        }
      ]
    },
    {
      "cell_type": "markdown",
      "source": [
        "# Lambda Function\n",
        "In Python, a lambda function (also commonly called an anonymous function) is a one-line shorthand for function. Let’s start by examining how lambda functions compare to the normal functions we have already been writing.\n",
        "\n",
        "Take for example, a function called add_two():\n",
        "\n",
        "def add_two(my_input):\n",
        "  return my_input + 2\n",
        "\n",
        "The same function could be written as a lambda function:\n",
        "\n",
        "add_two = lambda my_input: my_input + 2"
      ],
      "metadata": {
        "id": "_5IBMBjcOcuV"
      }
    },
    {
      "cell_type": "code",
      "source": [
        "percent = 95\n",
        "\n",
        "if percent >= 90:\n",
        "  print(\"Got Grade A...\")\n",
        "else:\n",
        "  print(\"Did not get A\")"
      ],
      "metadata": {
        "colab": {
          "base_uri": "https://localhost:8080/"
        },
        "id": "K8KS76Z_ObVy",
        "outputId": "7cb84334-3a85-4954-94f8-28e4f0ebc751"
      },
      "execution_count": null,
      "outputs": [
        {
          "output_type": "stream",
          "name": "stdout",
          "text": [
            "Got Grade A...\n"
          ]
        }
      ]
    },
    {
      "cell_type": "code",
      "source": [
        "check_if_A = lambda percent : \"got A...\" if percent >= 90 else 'didnot get A'\n",
        "print(check_if_A)"
      ],
      "metadata": {
        "colab": {
          "base_uri": "https://localhost:8080/"
        },
        "id": "0jm4UbOKPqfO",
        "outputId": "967acc64-fac0-49e7-b09e-b23f5d744d67"
      },
      "execution_count": null,
      "outputs": [
        {
          "output_type": "stream",
          "name": "stdout",
          "text": [
            "<function <lambda> at 0x7fe7736df5e0>\n"
          ]
        }
      ]
    },
    {
      "cell_type": "markdown",
      "source": [
        "# **Introduction to Object Oriented Programming OOP**\n",
        "\n",
        "In programming, most languages offer various features that give us different ways to tackle technical problems. With so many different languages out there, with their own unique set of features, it became necessary to create a classification system to help distinguish those sets of features. This ultimately led to the creation of the term programming paradigm - a way to classify different programming languages and the unique features that they offered.\n",
        "\n",
        "As we explore Python deeper, our code might fall into multiple paradigm categories at once. This is because most modern-day languages offer more than one specific paradigm we can program in. While we could spend all day exploring all the paradigms Python offers, we will instead dive into one of the most popular paradigms, and one we have already been using (maybe unknowingly), called Object-Oriented Programming (OOP).\n",
        "\n",
        "At the forefront of any language classified as an OOP language, there must exist the ability to create programs around classes and objects. We have already started working with these concepts earlier as we built our own custom classes, class methods, and instance objects. To recap, let’s take a look at an example:\n",
        "\n"
      ],
      "metadata": {
        "id": "hzni8MkVHjQp"
      }
    },
    {
      "cell_type": "code",
      "source": [
        "class Dog:\n",
        "  sound = \"Wooow\"\n",
        " \n",
        "  def __init__(self, name1, age1):\n",
        "    self.name = name1\n",
        "    self.age = age1\n",
        " \n",
        "  def bark(self):\n",
        "    print(Dog.sound)"
      ],
      "metadata": {
        "id": "83vVm-9W-jb1"
      },
      "execution_count": null,
      "outputs": []
    },
    {
      "cell_type": "code",
      "source": [
        "sheferd = Dog('Shered', 5)\n",
        "print(sheferd.name)\n",
        "sheferd.bark()\n"
      ],
      "metadata": {
        "colab": {
          "base_uri": "https://localhost:8080/"
        },
        "id": "T_HkTV0wMwEr",
        "outputId": "e1f6ecab-fed8-4dea-db0b-7240542aa54e"
      },
      "execution_count": null,
      "outputs": [
        {
          "output_type": "stream",
          "name": "stdout",
          "text": [
            "Shered\n",
            "Wooow\n"
          ]
        }
      ]
    },
    {
      "cell_type": "markdown",
      "source": [
        "In the above example, we are representing a real-world entity (a dog) as a class with properties (name and age) and methods (bark). These features make up the core of the OOP paradigm and ultimately allow us to build more intricate programs. This however only scratches the surface of what we can accomplish. To explore the paradigm further, we will examine the four core pillars of OOP:\n",
        "\n",
        "Inheritance\n",
        "Polymorphism\n",
        "Abstraction\n",
        "Encapsulation\n",
        "Each of these pillars will allow us to expand our skills so that we can take full advantage of the power of object-oriented programming in Python! We will begin exploring these pillars in later exercises but for now, let’s refresh ourselves on OOP fundamentals.\n"
      ],
      "metadata": {
        "id": "oobvYNxdOSli"
      }
    },
    {
      "cell_type": "code",
      "source": [
        "# Write your code below\n",
        "# Write your code below\n",
        "class Employee:\n",
        "  new_id = 1\n",
        "  def __init__(self):\n",
        "    self.id = Employee.new_id\n",
        "    print(Employee.new_id)\n",
        "    Employee.new_id += 1\n",
        "\n",
        "  def say_id(self):\n",
        "    print(\"My id is\" , self.id)\n",
        "\n",
        "e1 = Employee()\n",
        "e2 = Employee()\n",
        "e3 = Employee()\n",
        "\n",
        "e1.say_id()\n"
      ],
      "metadata": {
        "colab": {
          "base_uri": "https://localhost:8080/"
        },
        "id": "1_AjfYSPQtNt",
        "outputId": "836472d5-2590-4a58-9170-05b6f2e0c4b8"
      },
      "execution_count": null,
      "outputs": [
        {
          "output_type": "stream",
          "name": "stdout",
          "text": [
            "1\n",
            "2\n",
            "3\n",
            "My id is 1\n"
          ]
        }
      ]
    },
    {
      "cell_type": "markdown",
      "source": [
        "**OOP Pillar: Inheritance**"
      ],
      "metadata": {
        "id": "klk1DlyN3mrN"
      }
    },
    {
      "cell_type": "markdown",
      "source": [
        "\n",
        "When we hear the word “inheritance”, code may not be the first thing that springs to mind; we’re probably more likely to think of inheriting genetic traits, like the eye color from a mother or dimples from a grandfather. In the world of Object-Oriented Programming, inheritance is actually one of the core pillars for creating intricate structures with our classes. To dive into this concept, let’s examine a Dog and Cat class:\n",
        "\n"
      ],
      "metadata": {
        "id": "u7Va51h6Okmk"
      }
    },
    {
      "cell_type": "code",
      "source": [
        "class Animal:\n",
        "  def eat(self):\n",
        "    print('Nom Nom')\n",
        "\n",
        "\n",
        "class Dog(Animal):\n",
        "  # class dogg\n",
        "  def bark(self):\n",
        "    print('woof!')\n",
        "\n",
        "class Cat(Animal):\n",
        "  # class cat\n",
        "  def meow(self):\n",
        "    print('Meow')\n",
        "\n",
        "d1 = Dog()\n",
        "d2 = Dog()\n",
        "c1 = Cat()\n",
        "c2 = Cat()\n",
        "\n",
        "d1.bark()\n",
        "c2.meow()\n",
        "d1.eat()"
      ],
      "metadata": {
        "colab": {
          "base_uri": "https://localhost:8080/"
        },
        "id": "kVPVJmSqOqPa",
        "outputId": "ad63376c-6c09-4ea1-9cf5-fd1abf05b4fe"
      },
      "execution_count": null,
      "outputs": [
        {
          "output_type": "stream",
          "name": "stdout",
          "text": [
            "woof!\n",
            "Meow\n",
            "Nom Nom\n"
          ]
        }
      ]
    },
    {
      "cell_type": "code",
      "source": [
        "# Script \n",
        "\n",
        "class Employee():\n",
        "  new_id = 1\n",
        "  def __init__(self):\n",
        "    self.id = Employee.new_id\n",
        "    Employee.new_id += 1\n",
        "\n",
        "  def say_id(self):\n",
        "    print(\"My id is {}.\".format(self.id))\n",
        "\n",
        "# Write your code below\n",
        "class Admin(Employee):\n",
        "  pass\n",
        "\n",
        "e1 = Employee()\n",
        "e2 = Employee()\n",
        "e3 = Admin()\n",
        "e3.say_id()\n",
        "e4 = Admin()\n",
        "e4.say_id()"
      ],
      "metadata": {
        "colab": {
          "base_uri": "https://localhost:8080/"
        },
        "id": "S2hQO1R1QZR9",
        "outputId": "f7f85033-53f2-46d9-a6e9-f3e17a11b1b5"
      },
      "execution_count": null,
      "outputs": [
        {
          "output_type": "stream",
          "name": "stdout",
          "text": [
            "My id is 3.\n",
            "My id is 4.\n"
          ]
        }
      ]
    },
    {
      "cell_type": "markdown",
      "source": [
        "**Overriding Methods**\n",
        "\n",
        "When implementing inheritance, a child class may want to change the behavior of a method from its parent class. In Python, all we have to do is override a method definition. An overriding method in a subclass is one that has the same definition as the parent class but contains different behavior.\n",
        "\n"
      ],
      "metadata": {
        "id": "pyASHdtN3w9T"
      }
    },
    {
      "cell_type": "code",
      "source": [
        "class Animal:\n",
        "  def __init__(self, name):\n",
        "    self.name = name\n",
        " \n",
        "  def make_noise(self):\n",
        "    print(\"{} says, Grrrr\".format(self.name))\n",
        " \n",
        "pet1 = Animal(\"Rex\")\n",
        "pet1.make_noise() # Rex says, Grrrr"
      ],
      "metadata": {
        "colab": {
          "base_uri": "https://localhost:8080/"
        },
        "id": "k2QjNloluGVC",
        "outputId": "7e7ac3d8-53e8-47b0-936e-41007386d1ba"
      },
      "execution_count": null,
      "outputs": [
        {
          "output_type": "stream",
          "name": "stdout",
          "text": [
            "Rex says, Grrrr\n"
          ]
        }
      ]
    },
    {
      "cell_type": "markdown",
      "source": [
        "The animal class above has one attribute, self.name and one method, .make_noise(). The .make_noise() method outputs a somewhat generic animal sound, \"Rex says, Grrrr\". If we define a subclass of Animal we may want to make a different sound."
      ],
      "metadata": {
        "id": "oLmIMfOUuwLa"
      }
    },
    {
      "cell_type": "code",
      "source": [
        "class Cat(Animal):\n",
        " \n",
        "  def make_noise(self):\n",
        "    print(\"{} says, Meow!\".format(self.name))\n",
        " \n",
        "pet2 = Cat(\"Maisy\")\n",
        "pet2.make_noise() # Maisy says, Meow!"
      ],
      "metadata": {
        "colab": {
          "base_uri": "https://localhost:8080/"
        },
        "id": "PPRVl08-uvBS",
        "outputId": "7d0f3ca7-b205-4b57-a75d-e344553030cb"
      },
      "execution_count": null,
      "outputs": [
        {
          "output_type": "stream",
          "name": "stdout",
          "text": [
            "Maisy says, Meow!\n"
          ]
        }
      ]
    },
    {
      "cell_type": "markdown",
      "source": [
        "Now we’ve made a class for a more specific type of animal, Cat. It has all the attributes and methods of Animal. However, if you call the .make_noise() method on this instance of Cat it will say “Maisy says, Meow!”."
      ],
      "metadata": {
        "id": "e4fMuGgdvHmN"
      }
    },
    {
      "cell_type": "markdown",
      "source": [
        "##Instructions##\n",
        "\n",
        "1.\n",
        "As an admin, you feel it is not important to give your ID, but just let others know they’re talking to an admin.\n",
        "\n",
        "Inside the Admin class:\n",
        "\n",
        "Define a method say_id()\n",
        "Inside the method, output \"I am an Admin\"\n",
        "Now when you call .say_id() with e3 you should see the .say_id() method output from Admin."
      ],
      "metadata": {
        "id": "bpxMi7kDvTWh"
      }
    },
    {
      "cell_type": "code",
      "source": [
        "class Employee():\n",
        "  new_id = 1\n",
        "  def __init__(self):\n",
        "    self.id = Employee.new_id\n",
        "    Employee.new_id += 1\n",
        "\n",
        "  def say_id(self):\n",
        "    print(\"My id is {}.\".format(self.id))\n",
        "\n",
        "class Admin(Employee):\n",
        "  # Write your code below\n",
        "  def say_id(self):\n",
        "    print(\"I am an Admin\")\n",
        "  \n",
        "e1 = Employee()\n",
        "e2 = Employee()\n",
        "e3 = Admin()\n",
        "e3.say_id()\n",
        "                            "
      ],
      "metadata": {
        "colab": {
          "base_uri": "https://localhost:8080/"
        },
        "id": "Hly20yxdwHSC",
        "outputId": "2e17f1e7-6293-476a-def0-317a29e6fbb5"
      },
      "execution_count": null,
      "outputs": [
        {
          "output_type": "stream",
          "name": "stdout",
          "text": [
            "I am an Admin\n"
          ]
        }
      ]
    },
    {
      "cell_type": "markdown",
      "source": [
        "# super() #\n",
        "\n",
        "When overriding methods we sometimes want to still access the behavior of the parent method. In order to do that we need a way to call the method of the parent class. Python gives us a way to do that using super().\n",
        "\n",
        "super() gives us a proxy object. With this proxy object, we can invoke the method of an object’s parent class (also called its superclass). We call the required function as a method on super():"
      ],
      "metadata": {
        "id": "vM7aQRre3wy5"
      }
    },
    {
      "cell_type": "code",
      "source": [
        "class Animal:\n",
        "  def __init__(self, name, sound=\"Grrrr\"):\n",
        "    self.name = name\n",
        "    self.sound = sound\n",
        " \n",
        "  def make_noise(self):\n",
        "    print(\"{} says, {}\".format(self.name, self.sound))\n",
        " \n",
        "class Cat(Animal):\n",
        "  def __init__(self, name):\n",
        "    super().__init__(name, \"Meow!\") \n",
        " \n",
        "pet_cat = Cat(\"Rachel\")\n",
        "pet_cat.make_noise() # Rachel says, Meow!"
      ],
      "metadata": {
        "colab": {
          "base_uri": "https://localhost:8080/"
        },
        "id": "rfPablmw3qZ_",
        "outputId": "3335fc73-3f0e-4822-e215-595665ed27b7"
      },
      "execution_count": null,
      "outputs": [
        {
          "output_type": "stream",
          "name": "stdout",
          "text": [
            "Rachel says, Meow!\n"
          ]
        }
      ]
    },
    {
      "cell_type": "markdown",
      "source": [
        "In the above example, we have the class Animal and the subclass Cat. Animal has 2 attributes, name and sound and one method, .make_noise(). The .make_noise() method outputs the name and sound of an instance.\n",
        "\n",
        "The Cat subclass has an .__init__() method which means the .__init__() method of its superclass, Animal will not be called when creating an instance of Cat. The .__init__() method from the subclass is overriding the one from the superclass.\n",
        "\n",
        "To still invoke the .__init__() method of Animal, super().__init__(name, \"Meow!\") is called inside the subclass .__init__() method. This additional logic allows us to add the \"Meow\" sound from within the Cat class, but still use the .__init__() method of the Animal class.\n",
        "\n",
        "super() is used in subclasses to invoke a needed behavior from the superclass alongside the behavior of a subclass method."
      ],
      "metadata": {
        "id": "YCscvQYF4pWn"
      }
    },
    {
      "cell_type": "code",
      "source": [
        "'''\n",
        "1.\n",
        "Once the managers found out that the admins were walking around just telling people they are admins, the managers stepped in and made them also say their ID.\n",
        "\n",
        "Inside the Admin class:\n",
        "\n",
        "Add a line that also calls the Employee class .say_id() method\n",
        "Now the output should be the admin’s ID and that they are an admin.\n",
        "'''\n",
        "class Employee():\n",
        "  new_id = 1\n",
        "  def __init__(self):\n",
        "    self.id = Employee.new_id\n",
        "    Employee.new_id += 1\n",
        "\n",
        "  def say_id(self):\n",
        "    print(\"My id is {}.\".format(self.id))\n",
        "\n",
        "class Admin(Employee):\n",
        "  def say_id(self):\n",
        "    super().say_id()\n",
        "    print(\"I am an Admin\")\n",
        "\n",
        "e1 = Employee()\n",
        "e2 = Employee()\n",
        "e3 = Admin()\n",
        "e3.say_id()\n",
        "\n",
        "\n"
      ],
      "metadata": {
        "colab": {
          "base_uri": "https://localhost:8080/"
        },
        "id": "-4L_vmDB4vnR",
        "outputId": "c8bdc9b6-3176-4e0d-e762-164899dd9eba"
      },
      "execution_count": null,
      "outputs": [
        {
          "output_type": "stream",
          "name": "stdout",
          "text": [
            "My id is 3.\n",
            "I am an Admin\n"
          ]
        }
      ]
    },
    {
      "cell_type": "markdown",
      "source": [
        "# Multiple Inheritance: Part 1 #\n",
        "\n",
        "Let’s now look at a feature allowed by Python called multiple inheritance. As you may have guessed from the name, this is when a subclass inherits from more than one superclass. One form of multiple inheritance is when there are multiple levels of inheritance. This means a class inherits members from its superclass and its super-superclass."
      ],
      "metadata": {
        "id": "KaR4nJQi3wop"
      }
    },
    {
      "cell_type": "code",
      "source": [
        "class Animal:\n",
        "  def __init__(self, name):\n",
        "    self.name = name\n",
        " \n",
        "  def say_hi(self):\n",
        "    print(\"{} says, Hi!\".format(self.name))\n",
        " \n",
        "class Cat(Animal):\n",
        "  pass\n",
        " \n",
        "class Angry_Cat(Cat):\n",
        "  pass\n",
        " \n",
        "my_pet = Angry_Cat(\"Mr. Cranky\")\n",
        "my_pet.say_hi() # Mr. Cranky says, Hi!"
      ],
      "metadata": {
        "colab": {
          "base_uri": "https://localhost:8080/"
        },
        "id": "k4eQLrqH5xhC",
        "outputId": "d3d70559-aebf-4627-d341-6cc7596a401b"
      },
      "execution_count": null,
      "outputs": [
        {
          "output_type": "stream",
          "name": "stdout",
          "text": [
            "Mr. Cranky says, Hi!\n"
          ]
        }
      ]
    },
    {
      "cell_type": "markdown",
      "source": [
        "In the above example, Angry_Cat inherits from Cat and Cat inherits from Animal. Both Angry_Cat and Cat have access to the Animal class name attribute and .say_hi() method. Any feature added to Cat, Angry_Cat will also have access to."
      ],
      "metadata": {
        "id": "K9QNeuhd6Q9R"
      }
    },
    {
      "cell_type": "code",
      "source": [
        "'''\n",
        "Instructions\n",
        "1.\n",
        "Managers decide to start walking around more to let people know who is in charge.\n",
        "\n",
        "Inside script.py:\n",
        "\n",
        "Define a Manager class and have it inherit from the Admin class\n",
        "Inside the Manager class, define a method say_id() that outputs that they are in charge.\n",
        "\n",
        "2.\n",
        "The Managers want to set a good example so they also let people know their ID and that they are an admin.\n",
        "\n",
        "Inside the .say_id() method of Manager:\n",
        "\n",
        "Call the Admin class .say_id() method\n",
        "\n",
        "\n",
        "3.\n",
        "Now test it out.\n",
        "\n",
        "At the bottom of script.py:\n",
        "\n",
        "Define a variable e4 and set it to an instance of the Manager class\n",
        "Call the .say_id() method of the instance in e4\n",
        "Now you will get output from all 3 classes.\n",
        "'''\n",
        "class Employee():\n",
        "  new_id = 1\n",
        "  def __init__(self):\n",
        "    self.id = Employee.new_id\n",
        "    Employee.new_id += 1\n",
        "\n",
        "  def say_id(self):\n",
        "    print(\"My id is {}.\".format(self.id))\n",
        "\n",
        "class Admin(Employee):\n",
        "  def say_id(self):\n",
        "    super().say_id()\n",
        "    print(\"I am an admin.\")\n",
        "\n",
        "# Write your code below\n",
        "\n",
        "class Manager(Admin):\n",
        "  def say_id(self):\n",
        "    print(\"I am incharge\")\n",
        "    super().say_id()\n",
        "\n",
        "\n",
        "e1 = Employee()\n",
        "e2 = Employee()\n",
        "e3 = Admin()\n",
        "e4 = Manager()\n",
        "e4.say_id()\n"
      ],
      "metadata": {
        "colab": {
          "base_uri": "https://localhost:8080/"
        },
        "id": "jtx_TBmG6Qhp",
        "outputId": "e3cecd7b-7599-4078-d329-5af76f37921b"
      },
      "execution_count": null,
      "outputs": [
        {
          "output_type": "stream",
          "name": "stdout",
          "text": [
            "I am incharge\n",
            "My id is 4.\n",
            "I am an admin.\n"
          ]
        }
      ]
    },
    {
      "cell_type": "markdown",
      "source": [
        "Multiple Inheritance: Part 2\n",
        "\n",
        "Another form of multiple inhertance involves a subclass that inherits directly from two classes and can use the attributes and methods of both."
      ],
      "metadata": {
        "id": "guL-eURb3wdy"
      }
    },
    {
      "cell_type": "code",
      "source": [
        "class Animal:\n",
        "  def __init__(self, name):\n",
        "    self.name = name\n",
        " \n",
        "class Dog(Animal):\n",
        "  def action(self):\n",
        "    print(\"{} wags tail. Awwww\".format(self.name))\n",
        " \n",
        "class Wolf(Animal):\n",
        "  def action(self):\n",
        "    print(\"{} bites. OUCH!\".format(self.name))\n",
        " \n",
        "class Hybrid(Dog, Wolf):\n",
        "  def action(self):\n",
        "    super().action()\n",
        "    Wolf.action(self)\n",
        " \n",
        "my_pet = Hybrid(\"Fluffy\")\n",
        "my_pet.action() # Fluffy wags tail. Awwww\n",
        "                # Fluffy bites. OUCH!"
      ],
      "metadata": {
        "colab": {
          "base_uri": "https://localhost:8080/"
        },
        "id": "UHJfZgrmOvWX",
        "outputId": "ef8909ec-9dbc-4559-97ee-67aec6e6bf9d"
      },
      "execution_count": null,
      "outputs": [
        {
          "output_type": "stream",
          "name": "stdout",
          "text": [
            "Fluffy wags tail. Awwww\n",
            "Fluffy bites. OUCH!\n"
          ]
        }
      ]
    },
    {
      "cell_type": "markdown",
      "source": [
        "The above example shows the class Hybrid is a subclass of both Dog and Wolf which are also both subclasses of Animal. All 3 subclasses can use the features in Animal and Hybrid can use the features of Dog and Wolf. But, Dog and Wolf can not use each other’s features.\n",
        "\n",
        "This form of multiple inheritance can be useful by adding functionality from a class that does not fit in with the current design scheme of the current classes.\n",
        "\n",
        "Care must be taken when creating an inheritance structure like this, especially when using the super() method. In the above example, calling super().action() inside the Hybrid class invokes the .action() method of the Dog class. This is due to it being listed before Wolf in the Hybrid(Dog, Wolf) definition.\n",
        "\n",
        "The line Wolf.action(self) calls the Wolf class .action() method. The important thing to note here is that self is passed as an argument. This ensures that the .action() method in Wolf receives the Hybrid class instance to output the correct name.\n"
      ],
      "metadata": {
        "id": "6N2U62bCPBnK"
      }
    },
    {
      "cell_type": "code",
      "source": [
        "'''\n",
        "Instructions\n",
        "1.Admins in the company need access to the consumer-facing website. This means that admins must also be users of the site.\n",
        "\n",
        "The class User has been added and has the attributes username and role and the .say_user_info() method.\n",
        "\n",
        "To get the admins the user access they need:\n",
        "\n",
        "Have the Admin class inherit from the User class alongside the Employee class. Be sure to have the Employee class listed first in the Admin class definition.\n",
        "Checkpoint 2 Passed\n",
        "\n",
        "\n",
        "2.Now let’s make sure the admins get their user data set up.\n",
        "\n",
        "Inside the .__init__() method of the Admin class:\n",
        "\n",
        "Call the .__init__() method of the User class\n",
        "Pass the Admin class instance, id and the string \"Admin\" as arguments to the .__init__() method call\n",
        "Checkpoint 3 Passed\n",
        "\n",
        "\n",
        "3. Confirm the user data is set up correctly.\n",
        "\n",
        "Call the .say_user_info() method using the Admin instance in e3\n",
        "'''\n",
        "\n",
        "class Employee():\n",
        "  new_id = 1\n",
        "  def __init__(self):\n",
        "    self.id = Employee.new_id\n",
        "    Employee.new_id += 1\n",
        "\n",
        "  def say_id(self):\n",
        "    print(\"My id is {}.\".format(self.id))\n",
        "\n",
        "class User:\n",
        "  def __init__(self, username, role=\"Customer\"):\n",
        "    self.username = username\n",
        "    self.role = role\n",
        "\n",
        "  def say_user_info(self):\n",
        "    print(\"My username is {}\".format(self.username))\n",
        "    print(\"My role is {}\".format(self.role))\n",
        "\n",
        "# Write your code below\n",
        "class Admin(Employee, User):\n",
        "  def __init__(self):\n",
        "    super().__init__()\n",
        "    User.__init__( self, self.id, \"Admin\")\n",
        "    \n",
        "\n",
        "  def say_id(self):\n",
        "    super().say_id()\n",
        "    print(\"I am an admin.\")\n",
        "\n",
        "e1 = Employee()\n",
        "e2 = Employee()\n",
        "e3 = Admin()\n",
        "e3.say_user_info()\n"
      ],
      "metadata": {
        "colab": {
          "base_uri": "https://localhost:8080/"
        },
        "id": "5tyEWBVgPEiv",
        "outputId": "133f9f19-b432-45e3-9d66-dab56d1cefc2"
      },
      "execution_count": null,
      "outputs": [
        {
          "output_type": "stream",
          "name": "stdout",
          "text": [
            "My username is 3\n",
            "My role is Admin\n"
          ]
        }
      ]
    },
    {
      "cell_type": "markdown",
      "source": [
        "#OOP Pillar: Polymorphism#\n",
        "\n",
        "In computer programming, polymorphism is the ability to apply an identical operation onto different types of objects. This can be useful when an object type may not be known at the program runtime. Polymorphism can be applied using Python in multiple ways. We have already experienced a form of it when exploring inheritance."
      ],
      "metadata": {
        "id": "yHt0xuBx3wPM"
      }
    },
    {
      "cell_type": "code",
      "source": [
        "class Animal:\n",
        "  def __init__(self, name1):\n",
        "    self.name = name1\n",
        "\n",
        "  def make_noise(self):\n",
        "      print(\"{} says, Grrr\".format(self.name))\n",
        "\n",
        "class Cat(Animal):\n",
        "  def make_noise(self):\n",
        "    print(\"{} says, Meow\".format(self.name))\n",
        "\n",
        "class Robot:\n",
        "  def make_noise(self):\n",
        "    print(\"beepboop Beeeeep\")\n"
      ],
      "metadata": {
        "id": "v7Q-bqWA5B1D"
      },
      "execution_count": null,
      "outputs": []
    },
    {
      "cell_type": "markdown",
      "source": [
        "The example above shows an Animal class, its subclass Cat, and another standalone class Robot. Each class has a method .make_noise() with different outputs. The identical method name with different behaviors is a form of polymorphism."
      ],
      "metadata": {
        "id": "Nxv6TZ676H7p"
      }
    },
    {
      "cell_type": "code",
      "source": [
        "an_animal = Animal(\"Bear\")\n",
        "my_pet = Cat(\"Maisy\")\n",
        "my_vacuum = Robot()\n",
        "objects = [an_animal, my_pet, my_vacuum]\n",
        "for o in objects:\n",
        "  o.make_noise()\n",
        " \n",
        "# OUTPUT\n",
        "# \"Bear says, Grrrr\"\n",
        "# \"Maisy says, Meow!\"\n",
        "# \"beep.boop...BEEEEP!!!\""
      ],
      "metadata": {
        "colab": {
          "base_uri": "https://localhost:8080/"
        },
        "id": "5rFFFgso5Bxl",
        "outputId": "e903e5f6-9086-4e37-b4d3-1f17dfa0c200"
      },
      "execution_count": null,
      "outputs": [
        {
          "output_type": "stream",
          "name": "stdout",
          "text": [
            "Bear says, Grrr\n",
            "Maisy says, Meow\n",
            "beepboop Beeeeep\n"
          ]
        }
      ]
    },
    {
      "cell_type": "markdown",
      "source": [
        "With the classes instantiated and added to a list, we are able to iterate through the list and call .make_noise(). This is done without needing to know what type of class .make_noise() belongs to."
      ],
      "metadata": {
        "id": "4KNj59MT6XLz"
      }
    },
    {
      "cell_type": "code",
      "source": [
        "'''\n",
        "Instructions\n",
        "1.\n",
        "A meeting needs to be scheduled with at least one employee, one admin and one manager.\n",
        "\n",
        "Define a variable meeting and set it equal to a list that contains an instance of each class, Employee(), Admin() and Manager()\n",
        "\n",
        "2.\n",
        "With the different types of employees in the meeting, have them all say their ID.\n",
        "\n",
        "Using a for loop iterate through the list meeting\n",
        "Using your defined loop variable, call the .say_id() method on each instance in the list\n",
        "'''"
      ],
      "metadata": {
        "id": "rNhOdW735Bu-"
      },
      "execution_count": null,
      "outputs": []
    },
    {
      "cell_type": "code",
      "source": [
        "class Employee():\n",
        "  new_id = 1\n",
        "  def __init__(self):\n",
        "    self.id = Employee.new_id\n",
        "    Employee.new_id += 1\n",
        "\n",
        "  def say_id(self):\n",
        "    print(\"My id is {}.\".format(self.id))\n",
        "\n",
        "class Admin(Employee):\n",
        "  def say_id(self):\n",
        "    super().say_id()\n",
        "    print(\"I am an admin.\")\n",
        "\n",
        "class Manager(Admin):\n",
        "  def say_id(self):\n",
        "    super().say_id()\n",
        "    print(\"I am in charge!\")\n",
        "\n",
        "# Write your code below\n",
        "meeting = [Employee(), Admin(), Manager()]\n",
        "for i in meeting:\n",
        "  i.say_id()\n",
        "\n"
      ],
      "metadata": {
        "colab": {
          "base_uri": "https://localhost:8080/"
        },
        "id": "rUEhrpiO5Bsf",
        "outputId": "35231241-1aa4-4502-9d8e-cd8f24db1313"
      },
      "execution_count": null,
      "outputs": [
        {
          "output_type": "stream",
          "name": "stdout",
          "text": [
            "My id is 1.\n",
            "My id is 2.\n",
            "I am an admin.\n",
            "My id is 3.\n",
            "I am an admin.\n",
            "I am in charge!\n"
          ]
        }
      ]
    },
    {
      "cell_type": "markdown",
      "source": [
        "# Dunder Methods #\n",
        "\n",
        "The code below shows that when working with different object types like, int, str or list, the + operator performs different functions. This is known as operator overloading and is another form of polymorphism.\n",
        "\n"
      ],
      "metadata": {
        "id": "VHAaxtSO3v-L"
      }
    },
    {
      "cell_type": "code",
      "source": [
        "# For an int and an int, + returns an int\n",
        "2 + 4 == 6\n",
        " \n",
        "# For a string and a string, + returns a string\n",
        "\"Is this \" + \"addition?\" == \"Is this addition?\"\n",
        " \n",
        "# For a list and a list, + returns a list\n",
        "[1, 2] + [3, 4] == [1, 2, 3, 4]"
      ],
      "metadata": {
        "colab": {
          "base_uri": "https://localhost:8080/"
        },
        "id": "RvCRZBAlAUF6",
        "outputId": "aa542f14-8697-4640-f00a-96e17167f38c"
      },
      "execution_count": null,
      "outputs": [
        {
          "output_type": "execute_result",
          "data": {
            "text/plain": [
              "True"
            ]
          },
          "metadata": {},
          "execution_count": 1
        }
      ]
    },
    {
      "cell_type": "markdown",
      "source": [
        "To implement this behavior, we must first discuss dunder methods. Every defined class in Python has access to a group of these special methods. We’ve explored a few already, the constructor __init__() and the string representation method __repr__(). The name dunder method is derived from the Double UNDERscores that surround the name of each method.\n",
        "\n",
        "Recall that the __repr__() method takes only one parameter, self, and must return a string value. The returned value should be a string representation of the class, which can be seen by using print() on an instance of the class. Review the sample code below for an example of how this method is used.\n",
        "\n",
        "Defining a class’s dunder methods is a way to perform operator overloading."
      ],
      "metadata": {
        "id": "ch1Pl4mGAf-v"
      }
    },
    {
      "cell_type": "code",
      "source": [
        "class Animal:\n",
        "  def __init__(self, name):\n",
        "    self.name = name\n",
        " \n",
        "  def __repr__(self):\n",
        "    return self.name\n",
        " \n",
        "  def __add__(self, another_animal):\n",
        "    return Animal(self.name + another_animal.name)\n",
        " \n",
        "a1 = Animal(\"Horse\")\n",
        "a2 = Animal(\"Penguin\")\n",
        "a3 = a1 + a2\n",
        "print(a1) # Prints \"Horse\"\n",
        "print(a2) # Prints \"Penguin\"\n",
        "print(a3) # Prints \"HorsePenguin\""
      ],
      "metadata": {
        "colab": {
          "base_uri": "https://localhost:8080/"
        },
        "id": "QWupigcmAiVw",
        "outputId": "c8ea91fa-a21f-4d07-bbbc-75a61f4f5c81"
      },
      "execution_count": null,
      "outputs": [
        {
          "output_type": "stream",
          "name": "stdout",
          "text": [
            "Horse\n",
            "Penguin\n",
            "HorsePenguin\n"
          ]
        }
      ]
    },
    {
      "cell_type": "markdown",
      "source": [
        "The above code has the class Animal with a dunder method, .__add__(). This defines the + operator behavior when used on objects of this class type. The method returns a new Animal object with the names of the operand objects concatenated. In this example, we have created a \"HorsePenguin\"!\n",
        "\n",
        "The line of code a3 = a1 + a2 invokes the .__add__() method of the left operand, a1, with the right operand a2 passed as an argument. The name attributes of a1 and a2 are concatenated using the .__add__() parameters, self and another_animal. The resulting string is used as the name of a new Animal object which is returned to become the value of a3."
      ],
      "metadata": {
        "id": "OzPF_agTAxnB"
      }
    },
    {
      "cell_type": "code",
      "source": [
        "'''\n",
        "\n",
        "Instructions\n",
        "1.\n",
        "There is now a Meeting class with an attendees list attribute and an .__add__() dunder method that adds Employee instances to the attendees list. Before we try and add employees to a meeting, we want to make sure we can know how many employees are in a meeting.\n",
        "\n",
        "Inside the Meeting class:\n",
        "\n",
        "Overload the len() operation by defining a __len__() dunder method\n",
        "Inside the __len__() definition, return the length of the attribute attendees\n",
        "\n",
        "\n",
        "2.\n",
        "Now add three employees to a meeting:\n",
        "\n",
        "Using the Meeting instance m1, add each of the employee instances e1, e2, and e3. Use one line for each employee instance.\n",
        "Output the length of meeting instance m1\n",
        "You should see the output from each employee being added and then the length of the meeting, 3.\n",
        "\n",
        "'''\n",
        "\n",
        "class Employee():\n",
        "  new_id = 1\n",
        "  def __init__(self):\n",
        "    self.id = Employee.new_id\n",
        "    Employee.new_id += 1\n",
        "\n",
        "class Meeting:\n",
        "  def __init__(self):\n",
        "    self.attendees = []\n",
        "\n",
        "  def __len__(self):\n",
        "    return len(self.attendees)\n",
        "  \n",
        "  def __add__(self, employee):\n",
        "    print(\"ID {} added.\".format(employee.id))\n",
        "    self.attendees.append(employee)\n",
        "\n",
        "  # Write your code\n",
        "  \n",
        "    \n",
        "e1 = Employee()\n",
        "e2 = Employee()\n",
        "e3 = Employee()\n",
        "m1 = Meeting()\n",
        "\n",
        "m1 + e1\n",
        "m1 + e2\n",
        "m1 + e3\n",
        "print(len(m1))\n",
        "\n"
      ],
      "metadata": {
        "colab": {
          "base_uri": "https://localhost:8080/"
        },
        "id": "b0FbWE7_DisC",
        "outputId": "5d829918-09d9-4016-d0c8-da31ab0b807d"
      },
      "execution_count": null,
      "outputs": [
        {
          "output_type": "stream",
          "name": "stdout",
          "text": [
            "ID 1 added.\n",
            "ID 2 added.\n",
            "ID 3 added.\n",
            "3\n"
          ]
        }
      ]
    },
    {
      "cell_type": "markdown",
      "source": [
        "OOP Pillar: Abstraction\n",
        "\n",
        "When a program starts to get big, classes might start to share functionality or we may lose sight of the purpose of a class’s inheritance structure. In order to alleviate issues like this, we can use the concept of abstraction.\n",
        "\n",
        "Abstraction helps with the design of code by defining necessary behaviors to be implemented within a class structure. By doing so, abstraction also helps avoid leaving out or overlapping class functionality as class hierarchies get larger.\n",
        "\n"
      ],
      "metadata": {
        "id": "F4AgYdFa4GY5"
      }
    },
    {
      "cell_type": "code",
      "source": [
        "from abc import ABC, abstractmethod\n",
        " \n",
        "class Animal(ABC):\n",
        "  def __init__(self, name):\n",
        "    self.name = name\n",
        " \n",
        "  @abstractmethod\n",
        "  def make_noise(self):\n",
        "    pass\n",
        " \n",
        "class Cat(Animal):\n",
        "  def make_noise(self):\n",
        "    print(\"{} says, Meow!\".format(self.name))\n",
        " \n",
        "class Dog(Animal):\n",
        "  def make_noise(self):\n",
        "    print(\"{} says, Woof!\".format(self.name))\n",
        " \n",
        "kitty = Cat(\"Maisy\")\n",
        "doggy = Dog(\"Amber\")\n",
        "kitty.make_noise() # \"Maisy says, Meow!\"\n",
        "doggy.make_noise() # \"Amber says, Woof!\""
      ],
      "metadata": {
        "colab": {
          "base_uri": "https://localhost:8080/"
        },
        "id": "CTF8PuSaLws1",
        "outputId": "1990af15-92a1-4e82-e2ea-a944ec6ee29a"
      },
      "execution_count": null,
      "outputs": [
        {
          "output_type": "stream",
          "name": "stdout",
          "text": [
            "Maisy says, Meow!\n",
            "Amber says, Woof!\n"
          ]
        }
      ]
    },
    {
      "cell_type": "markdown",
      "source": [
        "Above we have Cat and Dog classes that inherit from Animal. The Animal class now inherits from an imported class ABC, which stands for Abstract Base Class.\n",
        "\n",
        "This is the first step to making Animal an abstract class that cannot be instantiated. The second step is using the imported decorator @abstractmethod on the empty method .make_noise().\n",
        "\n",
        "The below line of code would throw an error."
      ],
      "metadata": {
        "id": "fHi2dKtRL5w6"
      }
    },
    {
      "cell_type": "code",
      "source": [
        "an_animal = Animal(\"Scruffy\")"
      ],
      "metadata": {
        "colab": {
          "base_uri": "https://localhost:8080/",
          "height": 165
        },
        "id": "TtSCIbbzL7zW",
        "outputId": "f0b80453-415a-4eee-913f-6b6c874c85ee"
      },
      "execution_count": null,
      "outputs": [
        {
          "output_type": "error",
          "ename": "TypeError",
          "evalue": "ignored",
          "traceback": [
            "\u001b[0;31m---------------------------------------------------------------------------\u001b[0m",
            "\u001b[0;31mTypeError\u001b[0m                                 Traceback (most recent call last)",
            "\u001b[0;32m<ipython-input-5-06beaafe01bf>\u001b[0m in \u001b[0;36m<module>\u001b[0;34m\u001b[0m\n\u001b[0;32m----> 1\u001b[0;31m \u001b[0man_animal\u001b[0m \u001b[0;34m=\u001b[0m \u001b[0mAnimal\u001b[0m\u001b[0;34m(\u001b[0m\u001b[0;34m\"Scruffy\"\u001b[0m\u001b[0;34m)\u001b[0m\u001b[0;34m\u001b[0m\u001b[0;34m\u001b[0m\u001b[0m\n\u001b[0m",
            "\u001b[0;31mTypeError\u001b[0m: Can't instantiate abstract class Animal with abstract methods make_noise"
          ]
        }
      ]
    },
    {
      "cell_type": "markdown",
      "source": [
        "The abstraction process defines what an Animal is but does not allow the creation of one. The .__init__() method still requires a name, since we feel all animals deserve a name.\n",
        "\n",
        "The .make_noise() method exists since all animals make some form of noise, but the method is not implemented since each animal makes a different noise. Each subclass of Animal is now required to define their own .make_noise() method or an error will occur.\n",
        "\n",
        "These are some of the ways abstraction supports the design of an organized class structure."
      ],
      "metadata": {
        "id": "bKDEFsuXMDJ2"
      }
    },
    {
      "cell_type": "markdown",
      "source": [
        "Instructions\n",
        "1.\n",
        "Take a look at the code in script.py. The abstract class AbstractEmployee is defined. It has all the logic that has previously existed in the Employee class, except that the .say_id() method is not implemented and has the @abstractmethod decorator.\n",
        "\n",
        "The Employee class currently has no implementation.\n",
        "\n",
        "Run the code and observe that e1.say_id() is causing an AttributeError since the Employee class has no implementation.\n",
        "\n",
        "2.\n",
        "Let’s fix this error:\n",
        "\n",
        "Make the Employee class inherit from the AbstractEmployee class\n",
        "\n",
        "3 \n",
        "Nice work! But wait, there’s still an error!\n",
        "\n",
        "TypeError: Can't instantiate abstract class Employee with abstract methods say_id\n",
        "The .say_id() method in the AbstractEmployee class uses the @abstractmethod decorator. This means any class that inherits from AbstractEmployee must implement a .say_id() method.\n",
        "\n",
        "Inside the Employee class replace the pass statement, then:\n",
        "\n",
        "Define a say_id() method that outputs a message with self.id\n",
        "When complete you should see the output in the console."
      ],
      "metadata": {
        "id": "VPobp7gcMQt1"
      }
    },
    {
      "cell_type": "code",
      "source": [
        "from abc import ABC, abstractmethod\n",
        "\n",
        "class AbstractEmployee(ABC):\n",
        "  new_id = 1\n",
        "  def __init__(self):\n",
        "    self.id = AbstractEmployee.new_id\n",
        "    AbstractEmployee.new_id += 1\n",
        "\n",
        "  @abstractmethod\n",
        "  def say_id(self):\n",
        "    pass\n",
        "\n",
        "# Write your code below\n",
        "class Employee(AbstractEmployee):\n",
        "    def say_id(self):\n",
        "      print(self.id)\n",
        "\n",
        "e1 = Employee()\n",
        "e1.say_id()"
      ],
      "metadata": {
        "colab": {
          "base_uri": "https://localhost:8080/"
        },
        "id": "EtqKiNsmMlCe",
        "outputId": "e2da9305-df46-46d5-f9ba-7a13b99aba6f"
      },
      "execution_count": null,
      "outputs": [
        {
          "output_type": "stream",
          "name": "stdout",
          "text": [
            "1\n"
          ]
        }
      ]
    },
    {
      "cell_type": "markdown",
      "source": [
        "OOP Pillar: Encapsulation\n",
        "\n",
        "Encapsulation is the process of making methods and data hidden inside the object they relate to. Languages accomplish this with what are called access modifiers like:\n",
        "\n",
        "Public\n",
        "Protected\n",
        "Private\n",
        "In general, public members can be accessed from anywhere, protected members can only be accessed from code within the same module and private members can only be accessed from code within the class that these members are defined.\n",
        "\n",
        "Python doesn’t have any inbuilt mechanism to prevent access from any member (i.e. all members are public in Python). However, there is a common convention amongst developers to use a single underscore self._x to indicate that a member is protected. Accessing a protected member outside of the module will not cause an error, it is added by developers to inform other developers that they should be careful when accessing this member in such a manner.\n",
        "\n",
        "Similarly, we can declare a member as private with two leading underscores self.__x. This is more than just a convention in Python because of a mechanism called name mangling. Members that are preceded with two underscores have their names modified in the background to obj._Classname__x. While they can still be publicly accessed, the purpose of this mechanism is to prevent clashing member names of any inheriting classes that might define a member of the same name.\n",
        "\n",
        "Note that this is different from the dunder methods we discussed earlier. A dunder method has two leading and two trailing underscores and is treated differently than a private member. One important difference is that dunder method names are not mangled."
      ],
      "metadata": {
        "id": "hCIBG0Qs4H94"
      }
    },
    {
      "cell_type": "markdown",
      "source": [
        "1.\n",
        "The Employee class contains one attribute id. An instance variable e is defined and then passed to the function dir() which is output to the console.\n",
        "\n",
        "dir() is a built-in Python function that returns a list of all class members, including dunder methods.\n",
        "\n",
        "When you run the code, you will see a list of class members with id as the last element.\n",
        "\n",
        "2.\n",
        "Now add an attribute that uses the single underscore naming convention.\n",
        "\n",
        "Inside the Employee class .__init__() method:\n",
        "\n",
        "Define the single underscore variable_id and set it equal to whatever you want\n",
        "When you run the code you can see _id as the second to last element in the output list.\n",
        "\n",
        "3.\n",
        "Now define a variable using the double-underscore.\n",
        "\n",
        "Inside the Employee class .__init__() method:\n",
        "\n",
        "Define the double underscore variable __id and set it equal to whatever you want\n",
        "When you run the code you can see a new variable _Employee__id as the first element in the output list. This is the result of name-mangling the variable self.__id."
      ],
      "metadata": {
        "id": "C7vhY4EUOaIN"
      }
    },
    {
      "cell_type": "code",
      "source": [
        "class Employee():\n",
        "    def __init__(self):\n",
        "        self.id = None\n",
        "        self._id = 2\n",
        "        self.__id = 3\n",
        "        # Write your code below\n",
        "        dir(e)\n",
        "\n",
        "e = Employee()\n",
        "e.__id = 5\n",
        "print(e.__id)"
      ],
      "metadata": {
        "colab": {
          "base_uri": "https://localhost:8080/"
        },
        "id": "RxaYV8PzP0BR",
        "outputId": "d9db0b2f-7de6-4b9b-8609-0133e01ec1d5"
      },
      "execution_count": null,
      "outputs": [
        {
          "output_type": "stream",
          "name": "stdout",
          "text": [
            "5\n"
          ]
        }
      ]
    },
    {
      "cell_type": "markdown",
      "source": [
        "**Getters, Setters and Deleters**\n",
        "\n",
        "Using getter, setter, and deleter functions are one way to implement encapsulation within Python where the state of class attributes can be handled within the class. These functions are useful in making sure that the data being handled is appropriate for the defined class functionality."
      ],
      "metadata": {
        "id": "sVfPPojI4H1c"
      }
    },
    {
      "cell_type": "code",
      "source": [
        "class Animal:\n",
        "  def __init__(self, name):\n",
        "    self._name = name\n",
        "    self._age = None\n",
        " \n",
        "  def get_age(self):\n",
        "    return self._age\n",
        " \n",
        "  def set_age(self, new_age):\n",
        "    if isinstance(new_age, int):\n",
        "      self._age = new_age\n",
        "    else:\n",
        "      raise TypeError\n",
        " \n",
        "  def delete_age(self):\n",
        "    print(\"_age Deleted\")\n",
        "    del self._age\n",
        "\n",
        "bull = Animal('Hello')\n",
        "bull.set_age(29)"
      ],
      "metadata": {
        "id": "SiBz5Du94c8i"
      },
      "execution_count": null,
      "outputs": []
    },
    {
      "cell_type": "markdown",
      "source": [
        "Review"
      ],
      "metadata": {
        "id": "9EPw32Zf4Hq6"
      }
    },
    {
      "cell_type": "markdown",
      "source": [
        "# **Exceptions** #\n",
        "\n",
        "Introduction to Exceptions\n",
        "\n",
        "It is truly an amazing feeling when our code works exactly the way we want it to. On the other hand, it can be equally frustrating when our code runs into errors. Since errors are such an integral part of working with Python, it’s important to know how to control errors and use them to our advantage effectively. In this lesson, we will explore a specific type of error, an exception.\n",
        "\n",
        "At this point, we are probably very familiar with the most common type of error: a syntax error. Syntax errors are mistakes in the structure of Python code. They are caught during a special parsing stage before a program is executed. They always prevent the entire program from running. For example, here is the error output of a syntax error:\n",
        "\n",
        "  File \"script.py\", line 1\n",
        "    def print_five\n",
        "                 ^\n",
        "SyntaxError: invalid syntax\n",
        "As opposed to a syntax error, an exception is a different kind of error that can occur with syntactically correct code. Exceptions are runtime errors because they occur during program execution, only when the offending code (the code causing the error) is reached. An example of an exception, and one we have probably seen before, is a NameError:\n",
        "\n",
        "Traceback (most recent call last):\n",
        "  File \"script.py\", line 1, in <module>\n",
        "    print(five)\n",
        "NameError: name 'five' is not defined\n",
        "Although the NameError has a similar output to a SyntaxError (both end with Error), it falls under the category of exceptions. Exceptions and syntax errors make up the two core categories for any error we will run into.\n",
        "\n",
        "Python Error Categories\n",
        "\n",
        "Python Errors\n",
        "  -> Syntax Errors\n",
        "  -> Exceptions\n",
        "\n",
        "  \n",
        "We’ll encounter many different kinds of exceptions, some of which will be unfamiliar. Luckily, as we saw in the example above, Python gives us a tool for gaining insight into exceptions - the traceback. A traceback is a summary that includes the exception type, a message, and the series of function calls preceding the exception, along with file names and line numbers. Here is another example of a traceback for a small program:\n",
        "\n",
        "# Imaginary file script.py\n",
        "print(1/0)\n",
        "Would output:\n",
        "\n",
        "Traceback (most recent call last):\n",
        "  File \"script.py\", line 1, in <module>\n",
        "    print(1/0)\n",
        "ZeroDivisionError: division by zero\n",
        "In the traceback above, reading from the bottom line, we see the exception type (ZeroDivisionError) followed by a message (division by zero). Going up, we see that the exception originated on line 1 of a file called script.py while calling print(1/0). We’ll be using tracebacks throughout the rest of the lesson to track and identify why and where our exceptions are occurring.\n",
        "\n",
        "Let’s get some practice debugging syntax errors and exceptions. For this lesson, let’s imagine we are hired by Instrument World, a musical instrument company with retail and online stores."
      ],
      "metadata": {
        "id": "Eeq-R64s7d1C"
      }
    },
    {
      "cell_type": "code",
      "source": [
        "'''\n",
        "Instructions\n",
        "1.\n",
        "Take a look at the code in welcome.py. There is a syntax error on line 3 (the extra closing parenthesis).\n",
        "\n",
        "Will any of the previous code be executed? Press “Run” to find out.\n",
        "\n",
        "Checkpoint 2 Passed\n",
        "\n",
        "2.\n",
        "Fix the error from the extra closing parenthesis from line 3. Run the code to see what happens.\n",
        "\n",
        "Checkpoint 3 Passed\n",
        "\n",
        "3.\n",
        "We hit an exception on line 3 because of the misspelled variable name! However, the previous lines of code were executed (observe Welcome to in the output) because exceptions occur at runtime.\n",
        "\n",
        "Fix the variable name on line 3 to continue!\n",
        "'''\n",
        "\n",
        "print('Welcome to')\n",
        "store = 'Instrument World!'\n",
        "print(store)"
      ],
      "metadata": {
        "id": "ydGTKXGAWHJM",
        "colab": {
          "base_uri": "https://localhost:8080/"
        },
        "outputId": "41d86db3-6a49-41bc-e173-29bfea7dc6fc"
      },
      "execution_count": null,
      "outputs": [
        {
          "output_type": "stream",
          "name": "stdout",
          "text": [
            "Welcome to\n",
            "Instrument World!\n"
          ]
        }
      ]
    },
    {
      "cell_type": "markdown",
      "source": [
        "Built-in Exceptions\n",
        "In the previous exercise (and probably many times before), we saw one type of exception called the NameError. The NameError is just one of the many built-in exceptions - exceptions that are built into the Python language. Other built-in exceptions cover fields ranging from mathematical errors all the way to operating system errors. We don’t need to memorize them all, but it’s helpful to be familiar with some common ones and, more importantly, understand where they come from inside Python.\n",
        "\n",
        "Exceptions are objects just like anything else. Most exceptions inherit directly from a class called Exception; however, they all are derived directly or indirectly from the BaseException class. We can examine the base classes by using the __bases__ attribute on any specific exception:\n",
        "\n",
        "print(NameError.__bases__)\n",
        "Will output:\n",
        "\n",
        "<class 'Exception'>\n",
        "We can even call __bases__ on the Exception class to see its origins:\n",
        "\n",
        "print(Exception.__bases__)\n",
        "Will output:\n",
        "\n",
        "<class 'BaseException'>\n",
        "The full hierarchy of built-in exceptions is the following:\n",
        "\n",
        "BaseException\n",
        " +-- Exception\n",
        "      +-- StopIteration\n",
        "      +-- StopAsyncIteration\n",
        "      +-- ArithmeticError\n",
        "      |    +-- FloatingPointError\n",
        "      |    +-- OverflowError\n",
        "      |    +-- ZeroDivisionError\n",
        "      +-- AssertionError\n",
        "      +-- AttributeError\n",
        "      +-- BufferError\n",
        "      +-- EOFError\n",
        "      +-- ImportError\n",
        "      |    +-- ModuleNotFoundError\n",
        "      +-- LookupError\n",
        "      |    +-- IndexError\n",
        "      |    +-- KeyError\n",
        "      +-- MemoryError\n",
        "      +-- NameError\n",
        "      |    +-- UnboundLocalError\n",
        "      +-- OSError\n",
        "      |    +-- BlockingIOError\n",
        "      |    +-- ChildProcessError\n",
        "      |    +-- ConnectionError\n",
        "      |    |    +-- BrokenPipeError\n",
        "      |    |    +-- ConnectionAbortedError\n",
        "      |    |    +-- ConnectionRefusedError\n",
        "      |    |    +-- ConnectionResetError\n",
        "      |    +-- FileExistsError\n",
        "      |    +-- FileNotFoundError\n",
        "      |    +-- InterruptedError\n",
        "      |    +-- IsADirectoryError\n",
        "      |    +-- NotADirectoryError\n",
        "      |    +-- PermissionError\n",
        "      |    +-- ProcessLookupError\n",
        "      |    +-- TimeoutError\n",
        "      +-- ReferenceError\n",
        "      +-- RuntimeError\n",
        "      |    +-- NotImplementedError\n",
        "      |    +-- RecursionError\n",
        "      +-- SyntaxError\n",
        "      |    +-- IndentationError\n",
        "      |         +-- TabError\n",
        "      +-- SystemError\n",
        "      +-- TypeError\n",
        "      +-- ValueError\n",
        "      |    +-- UnicodeError\n",
        "      |         +-- UnicodeDecodeError\n",
        "      |         +-- UnicodeEncodeError\n",
        "      |         +-- UnicodeTranslateError\n",
        "Note that there is a lot of exceptions built into the language of Python. Again, we don’t need to memorize all of them, but at some point, we may see them pop up in our programs. We can find details on each of the exceptions listed above in the Python documentation.\n",
        "\n",
        "Later in this lesson, we’ll be using the Exception base class to create custom exceptions. For now, let’s get some practice encountering built-in exceptions and reading their tracebacks.\n",
        "\n",
        "Instructions\n",
        "1.\n",
        "Instrument World has a program that prints some of the most popular instruments it has on sale.\n",
        "\n",
        "Take some time to look over the program, and then run the code in instruments.py. We’ll encounter another exception that we might not have seen before. What might this exception be telling us?\n",
        "\n",
        "Checkpoint 2 Passed\n",
        "\n",
        "Stuck? Get a hint\n",
        "2.\n",
        "Take a look over traceback - it ends with the exception type and a brief message. Above that is the exact line that caused the exception.\n",
        "\n",
        "Fix this line so that the exception no longer occurs and then re-run the code.\n",
        "\n",
        "Checkpoint 3 Passed\n",
        "\n",
        "Stuck? Get a hint\n",
        "3.\n",
        "Looks like the exception we saw in the previous step was a TypeError. Let’s confirm which base class it is derived from.\n",
        "\n",
        "Use print() to output a TypeError.__bases__.\n",
        "\n",
        "Checkpoint 4 Passed\n",
        "\n",
        "Stuck? Get a hint\n",
        "4.\n",
        "There is another exception that gets hit - once again, read the traceback, fix the exception, and re-run the code."
      ],
      "metadata": {
        "id": "qRu9KnRSZQQ7"
      }
    },
    {
      "cell_type": "code",
      "source": [
        "sale_instruments = ['Violin', 'Conga', 'Clavinet']\n",
        "\n",
        "print('The following ' + str(len(sale_instruments)) + ' instruments are on sale:')\n",
        "print(sale_instruments[0])\n",
        "print(sale_instruments[1])\n",
        "print(sale_instruments[2])\n",
        "\n",
        "\n",
        "print(TypeError.__bases__)"
      ],
      "metadata": {
        "id": "v1NgQTwZZhPv"
      },
      "execution_count": null,
      "outputs": []
    },
    {
      "cell_type": "markdown",
      "source": [
        "# **Raising Exceptions**\n",
        "\n",
        "Encountering exceptions isn’t always an accident. We can throw an exception at any time by using the raise keyword, even when Python would not normally throw it.\n",
        "\n",
        "We might want to raise an exception anytime we think a mistake has or will occur in our program. This lets us stop program execution immediately and provide a useful error message instead of allowing mistakes to occur that may be difficult to diagnose at a later point.\n",
        "\n",
        "One way to use the raise keyword is by pairing it with a specific exception class name. We can either call the class by itself or call a constructor and provide a specific error message. So for example we could do:\n",
        "\n",
        "raise NameError\n",
        "# or \n",
        "raise NameError('Custom Message')\n",
        "When only the class name is provided (as in the first example), Python calls the constructor method for us without any arguments (and thus no custom message will come up).\n",
        "\n",
        "For a more concrete example, let’s examine raising a TypeError for a function that checks if an employee tries to open the cash register but does not have the correct access:\n",
        "\n",
        "def open_register(employee_status):\n",
        "  if employee_status == 'Authorized':\n",
        "    print('Successfully opened cash register')\n",
        "  else:\n",
        "    # Alternatives: raise TypeError() or TypeError('Message')\n",
        "    raise TypeError\n",
        "When an employee_status is not 'Authorized', the function open_register() will throw a TypeError and stop program execution.\n",
        "\n",
        "Alternatively, when no built-in exception makes sense for the type of error our program might experience, it might be better to use a generic exception with a specific message. This is where we can use the base Exception class and provide a single argument that serves as the error message. Let’s modify the previous example, this time raising an Exception object with a message:\n",
        "\n",
        "def open_register(employee_status):\n",
        "  if employee_status == 'Authorized':\n",
        "    print('Successfully opened cash register')\n",
        "  else:\n",
        "    raise Exception('Employee does not have access!')\n",
        "As a general rule of thumb, use an exception that provides the best explanation for the expected error for both the user and anyone that will read the code.\n",
        "\n",
        "Later in this lesson, we’ll explore how to customize our exceptions further by creating user-defined exceptions. For now, let’s practice using the raise keyword.\n",
        "\n",
        "Instructions\n",
        "1.\n",
        "Instrument World has a program that attempts to print the price of several instruments. Take some time to examine the program and then run the code and observe the output!\n",
        "\n",
        "What do we expect to happen?\n",
        "\n",
        "Checkpoint 2 Passed\n",
        "\n",
        "Stuck? Get a hint\n",
        "2.\n",
        "We hit a KeyError since 'Piano' is not a key in the instrument_catalog dictionary.\n",
        "\n",
        "Let’s provide a custom message by raising the exception ourselves. To accomplish this goal we will use a simple conditional.\n",
        "\n",
        "First, inside of print_instrument_price, add an if statement that checks whether or not the instrument parameter is found in instrument_catalog. If it is, use the provided pre-written print statement to print the price.\n",
        "\n",
        "Checkpoint 3 Passed\n",
        "\n",
        "Stuck? Get a hint\n",
        "3.\n",
        "Finally, let’s add an else block where we will print our custom KeyError exception if the key does not exist. Inside, it should raise a KeyError with the message instrument + ' is not found in instrument catalog!'."
      ],
      "metadata": {
        "id": "cTHEGzl6Z9VC"
      }
    },
    {
      "cell_type": "code",
      "source": [
        "instrument_catalog = {\n",
        "  'Marimba': 1999,\n",
        "  'Kora': 499,\n",
        "  'Flute': 899\n",
        "}\n",
        "\n",
        "def print_instrument_price(instrument):\n",
        "  # Write your code below:\n",
        "  if instrument in instrument_catalog:\n",
        "\n",
        "    print('The price of a ' + instrument + ' is ' + str(instrument_catalog[instrument]))\n",
        "  else:\n",
        "    raise KeyError(instrument + ' is not found in instrument catalog!')\n",
        "\n",
        "print_instrument_price('Marimba')\n",
        "print_instrument_price('Flute')\n",
        "print_instrument_price('Piano')\n"
      ],
      "metadata": {
        "colab": {
          "base_uri": "https://localhost:8080/",
          "height": 356
        },
        "id": "cpyb0JbJdnxj",
        "outputId": "838e9234-c1b1-4461-a4d4-590eae495872"
      },
      "execution_count": null,
      "outputs": [
        {
          "output_type": "stream",
          "name": "stdout",
          "text": [
            "The price of a Marimba is 1999\n",
            "The price of a Flute is 899\n"
          ]
        },
        {
          "output_type": "error",
          "ename": "KeyError",
          "evalue": "ignored",
          "traceback": [
            "\u001b[0;31m---------------------------------------------------------------------------\u001b[0m",
            "\u001b[0;31mKeyError\u001b[0m                                  Traceback (most recent call last)",
            "\u001b[0;32m<ipython-input-2-9eee82fae065>\u001b[0m in \u001b[0;36m<module>\u001b[0;34m\u001b[0m\n\u001b[1;32m     15\u001b[0m \u001b[0mprint_instrument_price\u001b[0m\u001b[0;34m(\u001b[0m\u001b[0;34m'Marimba'\u001b[0m\u001b[0;34m)\u001b[0m\u001b[0;34m\u001b[0m\u001b[0;34m\u001b[0m\u001b[0m\n\u001b[1;32m     16\u001b[0m \u001b[0mprint_instrument_price\u001b[0m\u001b[0;34m(\u001b[0m\u001b[0;34m'Flute'\u001b[0m\u001b[0;34m)\u001b[0m\u001b[0;34m\u001b[0m\u001b[0;34m\u001b[0m\u001b[0m\n\u001b[0;32m---> 17\u001b[0;31m \u001b[0mprint_instrument_price\u001b[0m\u001b[0;34m(\u001b[0m\u001b[0;34m'Piano'\u001b[0m\u001b[0;34m)\u001b[0m\u001b[0;34m\u001b[0m\u001b[0;34m\u001b[0m\u001b[0m\n\u001b[0m",
            "\u001b[0;32m<ipython-input-2-9eee82fae065>\u001b[0m in \u001b[0;36mprint_instrument_price\u001b[0;34m(instrument)\u001b[0m\n\u001b[1;32m     11\u001b[0m     \u001b[0mprint\u001b[0m\u001b[0;34m(\u001b[0m\u001b[0;34m'The price of a '\u001b[0m \u001b[0;34m+\u001b[0m \u001b[0minstrument\u001b[0m \u001b[0;34m+\u001b[0m \u001b[0;34m' is '\u001b[0m \u001b[0;34m+\u001b[0m \u001b[0mstr\u001b[0m\u001b[0;34m(\u001b[0m\u001b[0minstrument_catalog\u001b[0m\u001b[0;34m[\u001b[0m\u001b[0minstrument\u001b[0m\u001b[0;34m]\u001b[0m\u001b[0;34m)\u001b[0m\u001b[0;34m)\u001b[0m\u001b[0;34m\u001b[0m\u001b[0;34m\u001b[0m\u001b[0m\n\u001b[1;32m     12\u001b[0m   \u001b[0;32melse\u001b[0m\u001b[0;34m:\u001b[0m\u001b[0;34m\u001b[0m\u001b[0;34m\u001b[0m\u001b[0m\n\u001b[0;32m---> 13\u001b[0;31m     \u001b[0;32mraise\u001b[0m \u001b[0mKeyError\u001b[0m\u001b[0;34m(\u001b[0m\u001b[0minstrument\u001b[0m \u001b[0;34m+\u001b[0m \u001b[0;34m' is not found in instrument catalog!'\u001b[0m\u001b[0;34m)\u001b[0m\u001b[0;34m\u001b[0m\u001b[0;34m\u001b[0m\u001b[0m\n\u001b[0m\u001b[1;32m     14\u001b[0m \u001b[0;34m\u001b[0m\u001b[0m\n\u001b[1;32m     15\u001b[0m \u001b[0mprint_instrument_price\u001b[0m\u001b[0;34m(\u001b[0m\u001b[0;34m'Marimba'\u001b[0m\u001b[0;34m)\u001b[0m\u001b[0;34m\u001b[0m\u001b[0;34m\u001b[0m\u001b[0m\n",
            "\u001b[0;31mKeyError\u001b[0m: 'Piano is not found in instrument catalog!'"
          ]
        }
      ]
    },
    {
      "cell_type": "markdown",
      "source": [
        "# **User Defined Exceptions** #\n"
      ],
      "metadata": {
        "id": "Xw1gRoQT7yPi"
      }
    },
    {
      "cell_type": "markdown",
      "source": [
        "**Iteratables**#  \n",
        "\n",
        "Iterator Objects: __iter__() and iter()\n",
        "Let’s return to our for loop from before:\n",
        "\n",
        "for food_brand in dog_foods:\n",
        "    print(food_brand + \" has \" + str(dog_foods[food_brand]) + \" bags\")\n",
        "Under the hood, the first step that the for loop has to do is to convert our dictionary (the iterable) of dog_foods to an iterator object. An iterator object is a special object that represents a stream of data that we can operate on. To accomplish this, it uses a built-in function called iter():\n",
        "\n",
        "dog_food_iterator = iter(dog_foods)\n",
        "We can see the new object by printing it:\n",
        "\n",
        "print(dog_food_iterator)\n",
        "This would output our new iterator object:\n",
        "\n",
        "<dict_keyiterator object at 0x....> \n",
        " \n",
        "# Note: The memory address is omitted since it varies on the system you run the script on. \n",
        "Here is a visual representation, using the graphic we saw earlier:Iter method\n",
        "\n",
        "To go behind the scenes even further, iter(dog_foods) is actually calling a method defined within the iterable called __iter__(). All iterables have this __iter__() method defined. We can even use the Python built-in function dir() to show that our dog_foods dictionary (iterable) has a defined method called __iter__().\n",
        "\n",
        "print(dir(dog_foods))\n",
        "If we examined the output (shortened for brevity), we can spot the __iter__ property\n",
        "\n",
        "['__class__', '__contains__', '__delattr__', '__delitem__', '__dir__', '__doc__', '__eq__', '__format__', '__ge__', '__getattribute__', '__getitem__', '__gt__', '__hash__', '__init__', '__init_subclass__', '__iter__'...<----- iter method\n",
        "In summary, the __iter__() method simply returns the iterator object that allows us to iterate over the iterable. Calling dog_foods.__iter__() will retrieve the same iterator object as calling iter(dog_foods). This means that the built-in function iter() and the iterable’s method __iter__() can be used interchangeably. While the object itself might not seem super useful just yet, we’ll see how to manipulate the stream of data inside of it in the next exercises.\n",
        "\n",
        "Now that we have taken a peek under the hood, let’s practice creating our own iterator objects from iterables using iter() and __iter__().\n",
        "\n"
      ],
      "metadata": {
        "id": "u2huJzWJFYC-"
      }
    },
    {
      "cell_type": "code",
      "source": [
        "\"\"\"\n",
        "Instructions\n",
        "1.\n",
        "Suppose we have a list of SKUs (stock-keeping units) for products in our pet shop. Let’s examine the internal methods of the iterable sku_list.\n",
        "\n",
        "Use dir() on sku_list and print out the result. Can you spot __iter__ in the list of methods that are printed?\n",
        "\n",
        "Checkpoint 2 Passed\n",
        "\n",
        "Stuck? Get a hint\n",
        "2.\n",
        "Let’s access the internal __iter__() method from sku_list to create our iterator object.\n",
        "\n",
        "Create a variable called sku_iterator_object_one that is equal to calling .__iter__() on sku_list.\n",
        "\n",
        "Lastly, print sku_iterator_object_one!\n",
        "\n",
        "Checkpoint 3 Passed\n",
        "\n",
        "Stuck? Get a hint\n",
        "3.\n",
        "Finally, let’s use the alternative iter() function to create an iterator object from sku_list\n",
        "\n",
        "Create a variable called sku_iterator_object_two that is equal to calling iter() on sku_list.\n",
        "\n",
        "Lastly, print sku_iterator_object_two!\n",
        "\n",
        "Observe that both methods will be able to retrieve an iterator object but it’s always helpful to know that iter() uses __iter__ under the hood.\n",
        "\"\"\"\n",
        "\n",
        "sku_list = [7046538, 8289407, 9056375, 2308597]\n",
        "\n",
        "# Write your code below:\n",
        "print(dir(sku_list))\n",
        "\n",
        "sku_iterator_object_one = sku_list.__iter__()\n",
        "print(sku_iterator_object_one)\n",
        "\n",
        "sku_iterator_object_two = iter(sku_list)\n",
        "\n",
        "print(sku_iterator_object_two)\n"
      ],
      "metadata": {
        "colab": {
          "base_uri": "https://localhost:8080/"
        },
        "id": "UxYsGEOEvtYE",
        "outputId": "d355cff1-4b33-4b85-d22c-292a4c530ad5"
      },
      "execution_count": null,
      "outputs": [
        {
          "output_type": "stream",
          "name": "stdout",
          "text": [
            "['__add__', '__class__', '__contains__', '__delattr__', '__delitem__', '__dir__', '__doc__', '__eq__', '__format__', '__ge__', '__getattribute__', '__getitem__', '__gt__', '__hash__', '__iadd__', '__imul__', '__init__', '__init_subclass__', '__iter__', '__le__', '__len__', '__lt__', '__mul__', '__ne__', '__new__', '__reduce__', '__reduce_ex__', '__repr__', '__reversed__', '__rmul__', '__setattr__', '__setitem__', '__sizeof__', '__str__', '__subclasshook__', 'append', 'clear', 'copy', 'count', 'extend', 'index', 'insert', 'pop', 'remove', 'reverse', 'sort']\n",
            "<list_iterator object at 0x7f47f26650a0>\n",
            "<list_iterator object at 0x7f47f2665760>\n"
          ]
        }
      ]
    },
    {
      "cell_type": "markdown",
      "source": [
        "Iterator Objects:__next__() and next()\n",
        "Now that we used an iterator’s __iter__() method to create an iterator object, how does our for loop know which value to retrieve on each iteration?\n",
        "\n",
        "Well, the iterator object has a method called __next__(), which retrieves the iterator’s next value. Let’s take a look using our SKU iterable for our shop:\n",
        "\n",
        "sku_list = [7046538, 8289407, 9056375, 2308597]\n",
        "sku_iterator = iter(sku_list)\n",
        "next_sku = sku_iterator.__next__()\n",
        "print(next_sku)\n",
        "Running this code would produce the following result for next_sku:\n",
        "\n",
        "7046538\n",
        "Similarly to __iter__() and iter(), there is a Python built-in function called next() that we can use in place of calling the __next__() method. Calling next() simply calls the iterator object’s __next__() method. Here is the same script but using next():\n",
        "\n",
        "sku_list = [7046538, 8289407, 9056375, 2308597]\n",
        "sku_iterator = iter(sku_list)\n",
        "next_sku = next(sku_iterator)\n",
        "print(next_sku)\n",
        "Running this code is exactly the same as running the code above using the __next__() method and produces the same next_sku result:\n",
        "\n",
        "7046538\n",
        "But how does the iterator object know when to stop retrieving values? Does it keep calling __next__() forever? Well, luckily __next__() method will raise an exception called StopIteration when all items have been iterated through.\n",
        "\n",
        "If we call __next__() a total of 5 times, one more than the total number of SKUs in our list, we will see the StopIteration exception raise on the last __next__() call:\n",
        "\n",
        "sku_list = [7046538, 8289407, 9056375, 2308597]\n",
        "sku_iterator = iter(sku_list)\n",
        "for i in range(5):\n",
        "  next_sku = sku_iterator.__next__()\n",
        "  print(next_sku)\n",
        "Running this code will produce the following output:\n",
        "\n",
        "7046538\n",
        "8289407\n",
        "9056375\n",
        "2308597\n",
        "Followed by:\n",
        "\n",
        "Traceback (most recent call last):\n",
        "  File \"main.py\", line 24, in <module>\n",
        "    next_sku = sku_iterator.__next__()\n",
        "StopIteration\n",
        "In summary, we can finally see why we needed to create the iterator object in the previous exercise. Creating it, allows us to utilize next() or __next__ to work with the stream of data one piece at a time.\n",
        "\n",
        "Now, let’s practice getting the hang of retrieving individual iterator object values!"
      ],
      "metadata": {
        "id": "G6lrNsVS1EWw"
      }
    },
    {
      "cell_type": "code",
      "source": [
        "\"\"\"\n",
        "Instructions\n",
        "1.\n",
        "Using our dog food dictionary called dog_foods, create a variable called dog_food_iterator that stores the value of calling iter() on our iterable dog_foods.\n",
        "\n",
        "Checkpoint 2 Passed\n",
        "\n",
        "Stuck? Get a hint\n",
        "2.\n",
        "Retrieve the first value of the dog_food_iterator using the built-in function next() and set it to a variable called next_dog_food1.\n",
        "\n",
        "Print next_dog_food1 to see the result.\n",
        "\n",
        "Checkpoint 3 Passed\n",
        "\n",
        "Stuck? Get a hint\n",
        "3.\n",
        "Retrieve the next two values of the dog_food_iterator using the __next__() method and set them to the variables next_dog_food2 and next_dog_food3.\n",
        "\n",
        "Print both variables to see the results!\n",
        "\n",
        "Checkpoint 4 Passed\n",
        "\n",
        "Stuck? Get a hint\n",
        "4.\n",
        "Uncomment the following line: next(dog_food_iterator)\n",
        "\n",
        "This will call next() on the dog_food_iterator object one more time. What should we expect to see in the output? Run the code to find out!\n",
        "\"\"\"\n",
        "\n",
        "dog_foods = {\n",
        "  \"Great Dane Foods\": 4,\n",
        "  \"Min Pip Pup Foods\": 10,\n",
        "  \"Pawsome Pup Foods\": 8\n",
        "}\n",
        "\n",
        "# Write your code below:\n",
        "dog_food_iterator = iter(dog_foods)\n",
        "\n",
        "next_dog_food1 = next(dog_food_iterator)\n",
        "\n",
        "print(next_dog_food1)\n",
        "\n",
        "next_dog_food2 = dog_food_iterator.__next__()\n",
        "next_dog_food3 = dog_food_iterator.__next__()\n",
        "\n",
        "print(next_dog_food2)\n",
        "print(next_dog_food3)\n",
        "\n",
        "\n",
        "next(dog_food_iterator)"
      ],
      "metadata": {
        "colab": {
          "base_uri": "https://localhost:8080/",
          "height": 252
        },
        "id": "0DG1kDW7xXna",
        "outputId": "51543b13-f928-4fa8-81bb-1264d76041a0"
      },
      "execution_count": null,
      "outputs": [
        {
          "output_type": "stream",
          "name": "stdout",
          "text": [
            "Great Dane Foods\n",
            "Min Pip Pup Foods\n",
            "Pawsome Pup Foods\n"
          ]
        },
        {
          "output_type": "error",
          "ename": "StopIteration",
          "evalue": "ignored",
          "traceback": [
            "\u001b[0;31m---------------------------------------------------------------------------\u001b[0m",
            "\u001b[0;31mStopIteration\u001b[0m                             Traceback (most recent call last)",
            "\u001b[0;32m<ipython-input-12-ac1f690db7c5>\u001b[0m in \u001b[0;36m<module>\u001b[0;34m\u001b[0m\n\u001b[1;32m     49\u001b[0m \u001b[0;34m\u001b[0m\u001b[0m\n\u001b[1;32m     50\u001b[0m \u001b[0;34m\u001b[0m\u001b[0m\n\u001b[0;32m---> 51\u001b[0;31m \u001b[0mnext\u001b[0m\u001b[0;34m(\u001b[0m\u001b[0mdog_food_iterator\u001b[0m\u001b[0;34m)\u001b[0m\u001b[0;34m\u001b[0m\u001b[0;34m\u001b[0m\u001b[0m\n\u001b[0m",
            "\u001b[0;31mStopIteration\u001b[0m: "
          ]
        }
      ]
    },
    {
      "cell_type": "code",
      "source": [],
      "metadata": {
        "id": "GQnS543i1Wxn"
      },
      "execution_count": null,
      "outputs": []
    }
  ]
}