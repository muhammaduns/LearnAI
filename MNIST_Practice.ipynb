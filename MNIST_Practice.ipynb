{
  "nbformat": 4,
  "nbformat_minor": 0,
  "metadata": {
    "colab": {
      "provenance": [],
      "authorship_tag": "ABX9TyMrmUGT1yWdzKKV1Cdw066K",
      "include_colab_link": true
    },
    "kernelspec": {
      "name": "python3",
      "display_name": "Python 3"
    },
    "language_info": {
      "name": "python"
    },
    "accelerator": "GPU",
    "gpuClass": "standard"
  },
  "cells": [
    {
      "cell_type": "markdown",
      "metadata": {
        "id": "view-in-github",
        "colab_type": "text"
      },
      "source": [
        "<a href=\"https://colab.research.google.com/github/muhammaduns/LearnAI/blob/main/MNIST_Practice.ipynb\" target=\"_parent\"><img src=\"https://colab.research.google.com/assets/colab-badge.svg\" alt=\"Open In Colab\"/></a>"
      ]
    },
    {
      "cell_type": "markdown",
      "source": [
        "** Loading the MNIST dataset in Keras**"
      ],
      "metadata": {
        "id": "tildUnESdOhp"
      }
    },
    {
      "cell_type": "code",
      "execution_count": 1,
      "metadata": {
        "colab": {
          "base_uri": "https://localhost:8080/"
        },
        "id": "ENZUzML_c5zU",
        "outputId": "a8d1b522-53cf-40bb-bb7c-31ec51930e48"
      },
      "outputs": [
        {
          "output_type": "stream",
          "name": "stdout",
          "text": [
            "Downloading data from https://storage.googleapis.com/tensorflow/tf-keras-datasets/mnist.npz\n",
            "11490434/11490434 [==============================] - 2s 0us/step\n"
          ]
        }
      ],
      "source": [
        "from tensorflow.keras.datasets import mnist\n",
        "(train_images, train_labels), (test_images, test_labels) = mnist.load_data()"
      ]
    },
    {
      "cell_type": "code",
      "source": [
        "train_images.shape"
      ],
      "metadata": {
        "colab": {
          "base_uri": "https://localhost:8080/"
        },
        "id": "bBRm4bAceQJx",
        "outputId": "2de42700-6970-42de-e1ac-b61a2d0b371c"
      },
      "execution_count": 2,
      "outputs": [
        {
          "output_type": "execute_result",
          "data": {
            "text/plain": [
              "(60000, 28, 28)"
            ]
          },
          "metadata": {},
          "execution_count": 2
        }
      ]
    },
    {
      "cell_type": "code",
      "source": [
        "test_images.shape"
      ],
      "metadata": {
        "colab": {
          "base_uri": "https://localhost:8080/"
        },
        "id": "CnEiQG33eVzj",
        "outputId": "b09c7bcd-cfad-4a5c-c121-15dcc4d0b5e8"
      },
      "execution_count": 3,
      "outputs": [
        {
          "output_type": "execute_result",
          "data": {
            "text/plain": [
              "(10000, 28, 28)"
            ]
          },
          "metadata": {},
          "execution_count": 3
        }
      ]
    },
    {
      "cell_type": "code",
      "source": [
        "len(train_labels), len(train_images)"
      ],
      "metadata": {
        "colab": {
          "base_uri": "https://localhost:8080/"
        },
        "id": "MsHka9yBeZUc",
        "outputId": "c7d8c79d-4c0b-4bf2-df43-e02eae8809fa"
      },
      "execution_count": 4,
      "outputs": [
        {
          "output_type": "execute_result",
          "data": {
            "text/plain": [
              "(60000, 60000)"
            ]
          },
          "metadata": {},
          "execution_count": 4
        }
      ]
    },
    {
      "cell_type": "code",
      "source": [
        " len(test_labels), len(test_images)"
      ],
      "metadata": {
        "colab": {
          "base_uri": "https://localhost:8080/"
        },
        "id": "t8qkqKPhev4v",
        "outputId": "69b3b915-58be-4d44-c81a-6f8e373ec1a1"
      },
      "execution_count": 5,
      "outputs": [
        {
          "output_type": "execute_result",
          "data": {
            "text/plain": [
              "(10000, 10000)"
            ]
          },
          "metadata": {},
          "execution_count": 5
        }
      ]
    },
    {
      "cell_type": "code",
      "source": [
        "print(len(train_images))"
      ],
      "metadata": {
        "colab": {
          "base_uri": "https://localhost:8080/"
        },
        "id": "FbVDMdnOegx1",
        "outputId": "5c8cf6d8-3c07-400e-ea26-6bcac6e47b0a"
      },
      "execution_count": 6,
      "outputs": [
        {
          "output_type": "stream",
          "name": "stdout",
          "text": [
            "60000\n"
          ]
        }
      ]
    },
    {
      "cell_type": "code",
      "source": [
        "test_labels"
      ],
      "metadata": {
        "colab": {
          "base_uri": "https://localhost:8080/"
        },
        "id": "uOKX-ENHen0r",
        "outputId": "c09b1c45-761f-4ffe-bfe7-3d157715de1f"
      },
      "execution_count": 7,
      "outputs": [
        {
          "output_type": "execute_result",
          "data": {
            "text/plain": [
              "array([7, 2, 1, ..., 4, 5, 6], dtype=uint8)"
            ]
          },
          "metadata": {},
          "execution_count": 7
        }
      ]
    },
    {
      "cell_type": "code",
      "source": [
        "train_labels"
      ],
      "metadata": {
        "colab": {
          "base_uri": "https://localhost:8080/"
        },
        "id": "FIRypQHTfKm3",
        "outputId": "f264dd8b-aae8-4b6b-e20d-6019a94089e8"
      },
      "execution_count": 8,
      "outputs": [
        {
          "output_type": "execute_result",
          "data": {
            "text/plain": [
              "array([5, 0, 4, ..., 5, 6, 8], dtype=uint8)"
            ]
          },
          "metadata": {},
          "execution_count": 8
        }
      ]
    },
    {
      "cell_type": "markdown",
      "source": [
        "The network architecture\n",
        "\n",
        "imporintg layers\n",
        "\n",
        "taking model either sequential \n",
        "and define layers with activation\n",
        "\n",
        "---------------------\n",
        "Compilation Step\n",
        "---------------------\n",
        "\n",
        " To make the model ready for training, we need to pick three more things as part of\n",
        "the compilation step:\n",
        "\n",
        " An optimizer—The mechanism through which the model will update itself based\n",
        "on the training data it sees, so as to improve its performance.\n",
        "\n",
        " A loss function—How the model will be able to measure its performance on the\n",
        "training data, and thus how it will be able to steer itself in the right direction.\n",
        "\n",
        " Metrics to monitor during training and testing—Here, we’ll only care about accuracy (the fraction of the images that were correctly classified).\n"
      ],
      "metadata": {
        "id": "3lQDAbnrgj8q"
      }
    },
    {
      "cell_type": "code",
      "source": [
        "from tensorflow import keras\n",
        "from tensorflow.keras import layers\n",
        "\n",
        "model = keras.Sequential([\n",
        " layers.Dense(512, activation=\"relu\"),\n",
        " layers.Dense(10, activation=\"softmax\")\n",
        "])"
      ],
      "metadata": {
        "id": "LlPnhWEijKHS"
      },
      "execution_count": 9,
      "outputs": []
    },
    {
      "cell_type": "markdown",
      "source": [
        "The compilation step"
      ],
      "metadata": {
        "id": "PENBycn3jToR"
      }
    },
    {
      "cell_type": "code",
      "source": [
        "model.compile(optimizer=\"rmsprop\",\n",
        " loss=\"sparse_categorical_crossentropy\",\n",
        " metrics=[\"accuracy\"])"
      ],
      "metadata": {
        "id": "3yLkfLP6fOnn"
      },
      "execution_count": 10,
      "outputs": []
    },
    {
      "cell_type": "markdown",
      "source": [
        "Before training, we’ll preprocess the data by reshaping it into the shape the model\n",
        "expects and scaling it so that all values are in the [0, 1] interval. Previously, our training images were stored in an array of shape (60000, 28, 28) of type uint8 with values\n",
        "in the [0, 255] interval. We’ll transform it into a float32 array of shape (60000, 28 *\n",
        "28) with values between 0 and 1."
      ],
      "metadata": {
        "id": "UL3EiO9tjUmW"
      }
    },
    {
      "cell_type": "markdown",
      "source": [
        " Preparing the image data"
      ],
      "metadata": {
        "id": "Ul3sRI9nj1Bo"
      }
    },
    {
      "cell_type": "code",
      "source": [
        "train_images = train_images.reshape((60000, 28 * 28))\n",
        "train_images.shape"
      ],
      "metadata": {
        "colab": {
          "base_uri": "https://localhost:8080/"
        },
        "id": "tZFab3YcjHjq",
        "outputId": "52d1e642-b6ea-4683-a86f-1cbd15ca36fc"
      },
      "execution_count": 11,
      "outputs": [
        {
          "output_type": "execute_result",
          "data": {
            "text/plain": [
              "(60000, 784)"
            ]
          },
          "metadata": {},
          "execution_count": 11
        }
      ]
    },
    {
      "cell_type": "code",
      "source": [
        "train_images = train_images.astype(\"float32\") / 255\n",
        "print(train_images.shape)\n",
        "print(len(train_images))"
      ],
      "metadata": {
        "colab": {
          "base_uri": "https://localhost:8080/"
        },
        "id": "zg7_bje2kgrc",
        "outputId": "828f6984-34b6-47b4-c944-5bd24962996b"
      },
      "execution_count": 12,
      "outputs": [
        {
          "output_type": "stream",
          "name": "stdout",
          "text": [
            "(60000, 784)\n",
            "60000\n"
          ]
        }
      ]
    },
    {
      "cell_type": "code",
      "source": [
        "test_images = test_images.reshape((10000, 28 * 28))\n",
        "print(test_images.shape)\n",
        "print(len(test_images))"
      ],
      "metadata": {
        "colab": {
          "base_uri": "https://localhost:8080/"
        },
        "id": "9vTU4pIEkgYw",
        "outputId": "30731430-8b5e-4263-de71-508aa312f41b"
      },
      "execution_count": 13,
      "outputs": [
        {
          "output_type": "stream",
          "name": "stdout",
          "text": [
            "(10000, 784)\n",
            "10000\n"
          ]
        }
      ]
    },
    {
      "cell_type": "code",
      "source": [
        "test_images = test_images.astype(\"float32\") / 255"
      ],
      "metadata": {
        "id": "r_EYdX3hkCX3"
      },
      "execution_count": 14,
      "outputs": []
    },
    {
      "cell_type": "markdown",
      "source": [
        " “Fitting” the model\n",
        "\n",
        "```\n",
        "# This is formatted as code\n",
        "```\n",
        "We’re now ready to train the model, which in Keras is done via a call to the model’s\n",
        "fit() method—we fit the model to its training data.\n"
      ],
      "metadata": {
        "id": "Syoa2TGenWvx"
      }
    },
    {
      "cell_type": "code",
      "source": [
        "model.fit(train_images, train_labels, epochs=5, batch_size=128)"
      ],
      "metadata": {
        "colab": {
          "base_uri": "https://localhost:8080/"
        },
        "id": "ZEDs5sktmQPk",
        "outputId": "19e5d90f-e1d6-4a2c-c855-f6ef1bd0d45b"
      },
      "execution_count": 15,
      "outputs": [
        {
          "output_type": "stream",
          "name": "stdout",
          "text": [
            "Epoch 1/5\n",
            "469/469 [==============================] - 5s 3ms/step - loss: 0.2570 - accuracy: 0.9249\n",
            "Epoch 2/5\n",
            "469/469 [==============================] - 1s 3ms/step - loss: 0.1038 - accuracy: 0.9694\n",
            "Epoch 3/5\n",
            "469/469 [==============================] - 1s 3ms/step - loss: 0.0693 - accuracy: 0.9800\n",
            "Epoch 4/5\n",
            "469/469 [==============================] - 1s 3ms/step - loss: 0.0495 - accuracy: 0.9850\n",
            "Epoch 5/5\n",
            "469/469 [==============================] - 2s 3ms/step - loss: 0.0376 - accuracy: 0.9887\n"
          ]
        },
        {
          "output_type": "execute_result",
          "data": {
            "text/plain": [
              "<keras.callbacks.History at 0x7fc06c876730>"
            ]
          },
          "metadata": {},
          "execution_count": 15
        }
      ]
    },
    {
      "cell_type": "markdown",
      "source": [
        "Using the model to make predictions"
      ],
      "metadata": {
        "id": "h_Y5pAwToR7a"
      }
    },
    {
      "cell_type": "code",
      "source": [
        "test_digits = test_images[0:10]"
      ],
      "metadata": {
        "id": "s-3MNuV3nq0E"
      },
      "execution_count": 16,
      "outputs": []
    },
    {
      "cell_type": "code",
      "source": [
        "predictions = model.predict(test_digits)"
      ],
      "metadata": {
        "colab": {
          "base_uri": "https://localhost:8080/"
        },
        "id": "mWrDkXTgofVy",
        "outputId": "5bb2237a-9490-455b-c105-fead2be90a69"
      },
      "execution_count": 17,
      "outputs": [
        {
          "output_type": "stream",
          "name": "stdout",
          "text": [
            "1/1 [==============================] - 0s 102ms/step\n"
          ]
        }
      ]
    },
    {
      "cell_type": "code",
      "source": [
        "predictions[0]"
      ],
      "metadata": {
        "colab": {
          "base_uri": "https://localhost:8080/"
        },
        "id": "SfawuY6Bokiz",
        "outputId": "d49d75f9-349e-434a-d94a-b91c74f60495"
      },
      "execution_count": 18,
      "outputs": [
        {
          "output_type": "execute_result",
          "data": {
            "text/plain": [
              "array([4.9831104e-09, 4.0576723e-10, 1.1063878e-06, 2.9102303e-04,\n",
              "       3.8216885e-13, 6.2330578e-08, 4.1091982e-15, 9.9970704e-01,\n",
              "       5.0498215e-08, 6.8932587e-07], dtype=float32)"
            ]
          },
          "metadata": {},
          "execution_count": 18
        }
      ]
    },
    {
      "cell_type": "code",
      "source": [
        "predictions[0].argmax()"
      ],
      "metadata": {
        "colab": {
          "base_uri": "https://localhost:8080/"
        },
        "id": "QUxYywdsomvj",
        "outputId": "8d3ca75b-522c-4885-9765-defcb868edae"
      },
      "execution_count": 19,
      "outputs": [
        {
          "output_type": "execute_result",
          "data": {
            "text/plain": [
              "7"
            ]
          },
          "metadata": {},
          "execution_count": 19
        }
      ]
    },
    {
      "cell_type": "code",
      "source": [
        "predictions[2], predictions[2].argmax()"
      ],
      "metadata": {
        "colab": {
          "base_uri": "https://localhost:8080/"
        },
        "id": "MtIpKrtgpTJS",
        "outputId": "bb971909-bdb7-40d8-d0f2-e048631b7c60"
      },
      "execution_count": 20,
      "outputs": [
        {
          "output_type": "execute_result",
          "data": {
            "text/plain": [
              "(array([2.8725232e-08, 9.9934214e-01, 4.8797214e-05, 4.5800512e-06,\n",
              "        1.2924876e-04, 3.8618027e-06, 4.4999542e-06, 2.9128353e-04,\n",
              "        1.7442470e-04, 1.1797596e-06], dtype=float32), 1)"
            ]
          },
          "metadata": {},
          "execution_count": 20
        }
      ]
    },
    {
      "cell_type": "code",
      "source": [
        "predictions[3], predictions[3].argmax()"
      ],
      "metadata": {
        "colab": {
          "base_uri": "https://localhost:8080/"
        },
        "id": "eVL9Bk91pkSn",
        "outputId": "298ff051-c726-4a1f-be8c-6cc7161f87a6"
      },
      "execution_count": 21,
      "outputs": [
        {
          "output_type": "execute_result",
          "data": {
            "text/plain": [
              "(array([9.9996698e-01, 4.4978035e-11, 2.8099082e-06, 4.9587491e-08,\n",
              "        5.3760431e-08, 3.3519777e-07, 9.6553622e-06, 1.5292635e-05,\n",
              "        3.1316547e-10, 4.8226448e-06], dtype=float32), 0)"
            ]
          },
          "metadata": {},
          "execution_count": 21
        }
      ]
    },
    {
      "cell_type": "code",
      "source": [
        "for i in range(10):\n",
        "  print(predictions[i], predictions[i].argmax())"
      ],
      "metadata": {
        "colab": {
          "base_uri": "https://localhost:8080/"
        },
        "id": "pdXt5olIpwDj",
        "outputId": "c2dd110c-0de9-4bb8-8185-7d25228a0cfa"
      },
      "execution_count": 22,
      "outputs": [
        {
          "output_type": "stream",
          "name": "stdout",
          "text": [
            "[4.9831104e-09 4.0576723e-10 1.1063878e-06 2.9102303e-04 3.8216885e-13\n",
            " 6.2330578e-08 4.1091982e-15 9.9970704e-01 5.0498215e-08 6.8932587e-07] 7\n",
            "[1.3570008e-10 6.0564986e-07 9.9999940e-01 6.4412981e-10 2.9341482e-19\n",
            " 1.3213888e-09 3.9070686e-10 1.1531577e-17 2.4261309e-09 2.4596029e-17] 2\n",
            "[2.8725232e-08 9.9934214e-01 4.8797214e-05 4.5800512e-06 1.2924876e-04\n",
            " 3.8618027e-06 4.4999542e-06 2.9128353e-04 1.7442470e-04 1.1797596e-06] 1\n",
            "[9.9996698e-01 4.4978035e-11 2.8099082e-06 4.9587491e-08 5.3760431e-08\n",
            " 3.3519777e-07 9.6553622e-06 1.5292635e-05 3.1316547e-10 4.8226448e-06] 0\n",
            "[9.8625651e-07 4.1306642e-11 3.2254820e-06 9.8376791e-09 9.9301130e-01\n",
            " 1.6836619e-08 1.0098008e-06 1.8331113e-05 3.0654454e-07 6.9648097e-03] 4\n",
            "[2.0702946e-09 9.9907148e-01 5.4702946e-07 7.3547005e-07 8.1000144e-05\n",
            " 2.4538567e-08 2.9381086e-08 8.3416846e-04 1.1536989e-05 4.2397568e-07] 1\n",
            "[4.50507097e-11 3.80855489e-08 8.69397425e-08 2.30080648e-08\n",
            " 9.99556005e-01 6.46606736e-07 1.01702774e-07 4.76271707e-05\n",
            " 3.38238926e-04 5.72357858e-05] 4\n",
            "[5.21535348e-09 4.36729943e-06 1.09497305e-04 4.49462188e-03\n",
            " 1.56439375e-04 6.57672717e-06 1.46752976e-09 2.38795124e-04\n",
            " 4.72853526e-06 9.94984984e-01] 9\n",
            "[1.87576155e-09 1.07439273e-10 3.39446095e-04 3.58913255e-08\n",
            " 1.02053404e-04 8.70183647e-01 1.29061222e-01 1.31641420e-09\n",
            " 1.52770925e-04 1.60684256e-04] 5\n",
            "[6.9679512e-11 1.7558981e-13 9.7596660e-11 3.1484167e-06 8.7654458e-05\n",
            " 1.0749305e-09 4.5558517e-13 1.6172462e-04 5.3581118e-07 9.9974698e-01] 9\n"
          ]
        }
      ]
    },
    {
      "cell_type": "code",
      "source": [
        "#  Evaluating the model on new data\n",
        "test_loss, test_acc = model.evaluate(test_images, test_labels)"
      ],
      "metadata": {
        "colab": {
          "base_uri": "https://localhost:8080/"
        },
        "id": "gajtM_lQp9cy",
        "outputId": "32e14b1c-d85d-46b5-8e4a-2c115020ace0"
      },
      "execution_count": 24,
      "outputs": [
        {
          "output_type": "stream",
          "name": "stdout",
          "text": [
            "313/313 [==============================] - 1s 2ms/step - loss: 0.0675 - accuracy: 0.9792\n"
          ]
        }
      ]
    },
    {
      "cell_type": "code",
      "source": [
        "test_loss, test_acc"
      ],
      "metadata": {
        "colab": {
          "base_uri": "https://localhost:8080/"
        },
        "id": "DG7-tSJkrrvS",
        "outputId": "4c7e7893-c575-40c9-895a-44941b6a7327"
      },
      "execution_count": 25,
      "outputs": [
        {
          "output_type": "execute_result",
          "data": {
            "text/plain": [
              "(0.0674821138381958, 0.979200005531311)"
            ]
          },
          "metadata": {},
          "execution_count": 25
        }
      ]
    },
    {
      "cell_type": "markdown",
      "source": [
        "The test-set accuracy turns out to be 97.8%—that’s quite a bit lower than the trainingset accuracy (98.9%). This gap between training accuracy and test accuracy is an\n",
        "example of overfitting: the fact that machine learning models tend to perform worse\n",
        "on new data than on their training data. Overfitting is a central topic in chapter 3."
      ],
      "metadata": {
        "id": "kRhBKUZasEK3"
      }
    },
    {
      "cell_type": "code",
      "source": [],
      "metadata": {
        "id": "n3YtuHmJsCnX"
      },
      "execution_count": null,
      "outputs": []
    }
  ]
}